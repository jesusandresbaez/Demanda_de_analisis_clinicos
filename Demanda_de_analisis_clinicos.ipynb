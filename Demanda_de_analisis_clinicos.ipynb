{
  "cells": [
    {
      "cell_type": "markdown",
      "metadata": {
        "id": "view-in-github",
        "colab_type": "text"
      },
      "source": [
        "<a href=\"https://colab.research.google.com/github/jesusandresbaez/Demanda_de_analisis_clinicos/blob/master/Demanda_de_analisis_clinicos.ipynb\" target=\"_parent\"><img src=\"https://colab.research.google.com/assets/colab-badge.svg\" alt=\"Open In Colab\"/></a>"
      ]
    },
    {
      "cell_type": "markdown",
      "metadata": {
        "id": "GIz0Can2VsOS"
      },
      "source": [
        "###1. Conectamos con la nube de Google "
      ]
    },
    {
      "cell_type": "code",
      "execution_count": null,
      "metadata": {
        "colab": {
          "base_uri": "https://localhost:8080/"
        },
        "id": "-jVqTm_BUYMT",
        "outputId": "7a40745c-7f3d-4da2-a365-9dc7ffc2c354"
      },
      "outputs": [
        {
          "output_type": "stream",
          "name": "stdout",
          "text": [
            "Mounted at /content/drive\n"
          ]
        }
      ],
      "source": [
        "from google.colab import drive\n",
        "drive.mount(\"/content/drive\", force_remount=True)"
      ]
    },
    {
      "cell_type": "markdown",
      "metadata": {
        "id": "THNbP6TEV_m0"
      },
      "source": [
        "###2. Importamos las librerias que utilizaremos"
      ]
    },
    {
      "cell_type": "code",
      "execution_count": null,
      "metadata": {
        "id": "8CdZ7ptpUxTP"
      },
      "outputs": [],
      "source": [
        "import pandas as pd\n",
        "import numpy as np\n",
        "from seaborn import load_dataset\n",
        "import seaborn as sns\n",
        "import matplotlib.pyplot as plt\n",
        "import datetime"
      ]
    },
    {
      "cell_type": "markdown",
      "metadata": {
        "id": "KiixoNRnWM9x"
      },
      "source": [
        "###3. Importamos nuestros DataFrames"
      ]
    },
    {
      "cell_type": "code",
      "execution_count": null,
      "metadata": {
        "id": "CV6lyAYtUKxb"
      },
      "outputs": [],
      "source": [
        "df20 = pd.read_csv('/content/drive/MyDrive/Marca Personal/Data Sicence/Laboratorio 2020/df20.csv')\n",
        "df19 = pd.read_csv('/content/drive/MyDrive/Marca Personal/Data Sicence/Laboratorio 2020/df19.csv')\n",
        "df21 = pd.read_csv('/content/drive/MyDrive/Marca Personal/Data Sicence/Laboratorio 2020/df21.csv')"
      ]
    },
    {
      "cell_type": "markdown",
      "metadata": {
        "id": "aoNayi6_guFx"
      },
      "source": [
        "### 3. Concatenamos los DataFrames\n",
        "Incluye una variable llamada \"Periodo\" a cada DataFrame que indiqué si el dataframe pertenece al 2019 o al 2020. Esto ayudará a saber si la fila de registros pertenece al 2019 o 2020 al unir los DataFrames."
      ]
    },
    {
      "cell_type": "code",
      "execution_count": null,
      "metadata": {
        "id": "tysptgfxk-0g"
      },
      "outputs": [],
      "source": [
        "df20['Periodo']='2020'\n",
        "df19['Periodo']='2019'\n",
        "df21['Periodo']='2021'\n",
        "df = pd.concat([df19, df20, df21], ignore_index=True)"
      ]
    },
    {
      "cell_type": "markdown",
      "metadata": {
        "id": "Ed85z65nWVzY"
      },
      "source": [
        "###4. Analizando las variables del Dataset creado\n",
        "\n",
        "- Aplicamos el método \".dtypes\" a nuestro Dataset\n",
        "- Tenemos que cambiar las variables \"Fecha\" porque se muestra como tipo \"objeto\" y la variable \"Cantidad\" porque se muestra como \"int64\" \n"
      ]
    },
    {
      "cell_type": "code",
      "execution_count": null,
      "metadata": {
        "colab": {
          "base_uri": "https://localhost:8080/"
        },
        "id": "_0g7Z9lemy_D",
        "outputId": "8813efb7-8c0a-4b54-ee6c-3925432dcf8e"
      },
      "outputs": [
        {
          "output_type": "execute_result",
          "data": {
            "text/plain": [
              "Clave          object\n",
              "Estudio        object\n",
              "Costo_dlls    float64\n",
              "Fecha          object\n",
              "Genero         object\n",
              "Cantidad        int64\n",
              "Periodo        object\n",
              "dtype: object"
            ]
          },
          "metadata": {},
          "execution_count": 108
        }
      ],
      "source": [
        "df.dtypes"
      ]
    },
    {
      "cell_type": "markdown",
      "metadata": {
        "id": "0Uil1T5GZOmI"
      },
      "source": [
        "Modificamos las variables según sea su narturaleza"
      ]
    },
    {
      "cell_type": "code",
      "execution_count": null,
      "metadata": {
        "id": "KwYsASbXY4SZ"
      },
      "outputs": [],
      "source": [
        "df['Fecha'] = pd.to_datetime(df['Fecha']) #Cambio de variable tipo \"object\" a \"fecha\"\n",
        "df[['Cantidad']] = df[['Cantidad']].astype(int) #Cambio de variable tipo  \"float\" a \"int64\"\n",
        "df[['Genero']] = df[['Genero']].astype('category') #Cambio de variable tipo \"object\" a \"Category\"\n",
        "df['Periodo'] = df[['Periodo']].astype('category') #Cambio de variable tipo \"object\" a \"Category\""
      ]
    },
    {
      "cell_type": "markdown",
      "source": [
        "Apoyandonos de la columna de 'Fecha' extraemos los meses y los días y creamos una nueva columna para cada una."
      ],
      "metadata": {
        "id": "fMQFd3RrXcpw"
      }
    },
    {
      "cell_type": "code",
      "source": [
        "#Generamos una columna nueva con el mes correspondiente a cada registro extraido de la variable Fecha\n",
        "df['Mes'] = df['Fecha'].dt.month "
      ],
      "metadata": {
        "id": "At4EafN1VeZX"
      },
      "execution_count": null,
      "outputs": []
    },
    {
      "cell_type": "code",
      "source": [
        "#Agregamos a nuestro dataframe principal la columna de día \n",
        "df['Dia'] = df['Fecha'].dt.day"
      ],
      "metadata": {
        "id": "X2N23G6lWOkH"
      },
      "execution_count": null,
      "outputs": []
    },
    {
      "cell_type": "code",
      "execution_count": null,
      "metadata": {
        "colab": {
          "base_uri": "https://localhost:8080/",
          "height": 641
        },
        "id": "5Q5pAatInLku",
        "outputId": "c0728421-0afe-45d2-8f04-871cf2bb48e7"
      },
      "outputs": [
        {
          "output_type": "execute_result",
          "data": {
            "text/plain": [
              "          Clave                               Estudio  Costo_dlls      Fecha  \\\n",
              "0       MX-0843                           PAPANICOLAU        14.5 2019-08-30   \n",
              "1       MX-0843                           PAPANICOLAU        14.5 2019-11-21   \n",
              "2       MX-0843                           PAPANICOLAU        14.5 2019-12-02   \n",
              "3       MX-0843                           PAPANICOLAU        14.5 2019-12-17   \n",
              "4       MX-0843                           PAPANICOLAU        14.5 2019-08-14   \n",
              "...         ...                                   ...         ...        ...   \n",
              "15469  MX-02010  ANTIDOPING 5 CON CERTIFICAADO MEDICO        30.0 2021-02-16   \n",
              "15470  MX-02010  ANTIDOPING 5 CON CERTIFICAADO MEDICO        30.0 2021-02-16   \n",
              "15471  MX-02010  ANTIDOPING 5 CON CERTIFICAADO MEDICO        30.0 2021-02-16   \n",
              "15472  MX-02010  ANTIDOPING 5 CON CERTIFICAADO MEDICO        30.0 2021-02-16   \n",
              "15473  MX-02010  ANTIDOPING 5 CON CERTIFICAADO MEDICO        30.0 2021-02-16   \n",
              "\n",
              "          Genero  Cantidad Periodo  Mes  Dia  \n",
              "0       Femenino         1    2019    8   30  \n",
              "1       Femenino         1    2019   11   21  \n",
              "2       Femenino         1    2019   12    2  \n",
              "3       Femenino         1    2019   12   17  \n",
              "4       Femenino         1    2019    8   14  \n",
              "...          ...       ...     ...  ...  ...  \n",
              "15469  Masculino         1    2021    2   16  \n",
              "15470  Masculino         1    2021    2   16  \n",
              "15471  Masculino         1    2021    2   16  \n",
              "15472  Masculino         1    2021    2   16  \n",
              "15473  Masculino         1    2021    2   16  \n",
              "\n",
              "[15474 rows x 9 columns]"
            ],
            "text/html": [
              "\n",
              "  <div id=\"df-7bf2dbf4-5118-4ba4-bb07-fc141c444810\">\n",
              "    <div class=\"colab-df-container\">\n",
              "      <div>\n",
              "<style scoped>\n",
              "    .dataframe tbody tr th:only-of-type {\n",
              "        vertical-align: middle;\n",
              "    }\n",
              "\n",
              "    .dataframe tbody tr th {\n",
              "        vertical-align: top;\n",
              "    }\n",
              "\n",
              "    .dataframe thead th {\n",
              "        text-align: right;\n",
              "    }\n",
              "</style>\n",
              "<table border=\"1\" class=\"dataframe\">\n",
              "  <thead>\n",
              "    <tr style=\"text-align: right;\">\n",
              "      <th></th>\n",
              "      <th>Clave</th>\n",
              "      <th>Estudio</th>\n",
              "      <th>Costo_dlls</th>\n",
              "      <th>Fecha</th>\n",
              "      <th>Genero</th>\n",
              "      <th>Cantidad</th>\n",
              "      <th>Periodo</th>\n",
              "      <th>Mes</th>\n",
              "      <th>Dia</th>\n",
              "    </tr>\n",
              "  </thead>\n",
              "  <tbody>\n",
              "    <tr>\n",
              "      <th>0</th>\n",
              "      <td>MX-0843</td>\n",
              "      <td>PAPANICOLAU</td>\n",
              "      <td>14.5</td>\n",
              "      <td>2019-08-30</td>\n",
              "      <td>Femenino</td>\n",
              "      <td>1</td>\n",
              "      <td>2019</td>\n",
              "      <td>8</td>\n",
              "      <td>30</td>\n",
              "    </tr>\n",
              "    <tr>\n",
              "      <th>1</th>\n",
              "      <td>MX-0843</td>\n",
              "      <td>PAPANICOLAU</td>\n",
              "      <td>14.5</td>\n",
              "      <td>2019-11-21</td>\n",
              "      <td>Femenino</td>\n",
              "      <td>1</td>\n",
              "      <td>2019</td>\n",
              "      <td>11</td>\n",
              "      <td>21</td>\n",
              "    </tr>\n",
              "    <tr>\n",
              "      <th>2</th>\n",
              "      <td>MX-0843</td>\n",
              "      <td>PAPANICOLAU</td>\n",
              "      <td>14.5</td>\n",
              "      <td>2019-12-02</td>\n",
              "      <td>Femenino</td>\n",
              "      <td>1</td>\n",
              "      <td>2019</td>\n",
              "      <td>12</td>\n",
              "      <td>2</td>\n",
              "    </tr>\n",
              "    <tr>\n",
              "      <th>3</th>\n",
              "      <td>MX-0843</td>\n",
              "      <td>PAPANICOLAU</td>\n",
              "      <td>14.5</td>\n",
              "      <td>2019-12-17</td>\n",
              "      <td>Femenino</td>\n",
              "      <td>1</td>\n",
              "      <td>2019</td>\n",
              "      <td>12</td>\n",
              "      <td>17</td>\n",
              "    </tr>\n",
              "    <tr>\n",
              "      <th>4</th>\n",
              "      <td>MX-0843</td>\n",
              "      <td>PAPANICOLAU</td>\n",
              "      <td>14.5</td>\n",
              "      <td>2019-08-14</td>\n",
              "      <td>Femenino</td>\n",
              "      <td>1</td>\n",
              "      <td>2019</td>\n",
              "      <td>8</td>\n",
              "      <td>14</td>\n",
              "    </tr>\n",
              "    <tr>\n",
              "      <th>...</th>\n",
              "      <td>...</td>\n",
              "      <td>...</td>\n",
              "      <td>...</td>\n",
              "      <td>...</td>\n",
              "      <td>...</td>\n",
              "      <td>...</td>\n",
              "      <td>...</td>\n",
              "      <td>...</td>\n",
              "      <td>...</td>\n",
              "    </tr>\n",
              "    <tr>\n",
              "      <th>15469</th>\n",
              "      <td>MX-02010</td>\n",
              "      <td>ANTIDOPING 5 CON CERTIFICAADO MEDICO</td>\n",
              "      <td>30.0</td>\n",
              "      <td>2021-02-16</td>\n",
              "      <td>Masculino</td>\n",
              "      <td>1</td>\n",
              "      <td>2021</td>\n",
              "      <td>2</td>\n",
              "      <td>16</td>\n",
              "    </tr>\n",
              "    <tr>\n",
              "      <th>15470</th>\n",
              "      <td>MX-02010</td>\n",
              "      <td>ANTIDOPING 5 CON CERTIFICAADO MEDICO</td>\n",
              "      <td>30.0</td>\n",
              "      <td>2021-02-16</td>\n",
              "      <td>Masculino</td>\n",
              "      <td>1</td>\n",
              "      <td>2021</td>\n",
              "      <td>2</td>\n",
              "      <td>16</td>\n",
              "    </tr>\n",
              "    <tr>\n",
              "      <th>15471</th>\n",
              "      <td>MX-02010</td>\n",
              "      <td>ANTIDOPING 5 CON CERTIFICAADO MEDICO</td>\n",
              "      <td>30.0</td>\n",
              "      <td>2021-02-16</td>\n",
              "      <td>Masculino</td>\n",
              "      <td>1</td>\n",
              "      <td>2021</td>\n",
              "      <td>2</td>\n",
              "      <td>16</td>\n",
              "    </tr>\n",
              "    <tr>\n",
              "      <th>15472</th>\n",
              "      <td>MX-02010</td>\n",
              "      <td>ANTIDOPING 5 CON CERTIFICAADO MEDICO</td>\n",
              "      <td>30.0</td>\n",
              "      <td>2021-02-16</td>\n",
              "      <td>Masculino</td>\n",
              "      <td>1</td>\n",
              "      <td>2021</td>\n",
              "      <td>2</td>\n",
              "      <td>16</td>\n",
              "    </tr>\n",
              "    <tr>\n",
              "      <th>15473</th>\n",
              "      <td>MX-02010</td>\n",
              "      <td>ANTIDOPING 5 CON CERTIFICAADO MEDICO</td>\n",
              "      <td>30.0</td>\n",
              "      <td>2021-02-16</td>\n",
              "      <td>Masculino</td>\n",
              "      <td>1</td>\n",
              "      <td>2021</td>\n",
              "      <td>2</td>\n",
              "      <td>16</td>\n",
              "    </tr>\n",
              "  </tbody>\n",
              "</table>\n",
              "<p>15474 rows × 9 columns</p>\n",
              "</div>\n",
              "      <button class=\"colab-df-convert\" onclick=\"convertToInteractive('df-7bf2dbf4-5118-4ba4-bb07-fc141c444810')\"\n",
              "              title=\"Convert this dataframe to an interactive table.\"\n",
              "              style=\"display:none;\">\n",
              "        \n",
              "  <svg xmlns=\"http://www.w3.org/2000/svg\" height=\"24px\"viewBox=\"0 0 24 24\"\n",
              "       width=\"24px\">\n",
              "    <path d=\"M0 0h24v24H0V0z\" fill=\"none\"/>\n",
              "    <path d=\"M18.56 5.44l.94 2.06.94-2.06 2.06-.94-2.06-.94-.94-2.06-.94 2.06-2.06.94zm-11 1L8.5 8.5l.94-2.06 2.06-.94-2.06-.94L8.5 2.5l-.94 2.06-2.06.94zm10 10l.94 2.06.94-2.06 2.06-.94-2.06-.94-.94-2.06-.94 2.06-2.06.94z\"/><path d=\"M17.41 7.96l-1.37-1.37c-.4-.4-.92-.59-1.43-.59-.52 0-1.04.2-1.43.59L10.3 9.45l-7.72 7.72c-.78.78-.78 2.05 0 2.83L4 21.41c.39.39.9.59 1.41.59.51 0 1.02-.2 1.41-.59l7.78-7.78 2.81-2.81c.8-.78.8-2.07 0-2.86zM5.41 20L4 18.59l7.72-7.72 1.47 1.35L5.41 20z\"/>\n",
              "  </svg>\n",
              "      </button>\n",
              "      \n",
              "  <style>\n",
              "    .colab-df-container {\n",
              "      display:flex;\n",
              "      flex-wrap:wrap;\n",
              "      gap: 12px;\n",
              "    }\n",
              "\n",
              "    .colab-df-convert {\n",
              "      background-color: #E8F0FE;\n",
              "      border: none;\n",
              "      border-radius: 50%;\n",
              "      cursor: pointer;\n",
              "      display: none;\n",
              "      fill: #1967D2;\n",
              "      height: 32px;\n",
              "      padding: 0 0 0 0;\n",
              "      width: 32px;\n",
              "    }\n",
              "\n",
              "    .colab-df-convert:hover {\n",
              "      background-color: #E2EBFA;\n",
              "      box-shadow: 0px 1px 2px rgba(60, 64, 67, 0.3), 0px 1px 3px 1px rgba(60, 64, 67, 0.15);\n",
              "      fill: #174EA6;\n",
              "    }\n",
              "\n",
              "    [theme=dark] .colab-df-convert {\n",
              "      background-color: #3B4455;\n",
              "      fill: #D2E3FC;\n",
              "    }\n",
              "\n",
              "    [theme=dark] .colab-df-convert:hover {\n",
              "      background-color: #434B5C;\n",
              "      box-shadow: 0px 1px 3px 1px rgba(0, 0, 0, 0.15);\n",
              "      filter: drop-shadow(0px 1px 2px rgba(0, 0, 0, 0.3));\n",
              "      fill: #FFFFFF;\n",
              "    }\n",
              "  </style>\n",
              "\n",
              "      <script>\n",
              "        const buttonEl =\n",
              "          document.querySelector('#df-7bf2dbf4-5118-4ba4-bb07-fc141c444810 button.colab-df-convert');\n",
              "        buttonEl.style.display =\n",
              "          google.colab.kernel.accessAllowed ? 'block' : 'none';\n",
              "\n",
              "        async function convertToInteractive(key) {\n",
              "          const element = document.querySelector('#df-7bf2dbf4-5118-4ba4-bb07-fc141c444810');\n",
              "          const dataTable =\n",
              "            await google.colab.kernel.invokeFunction('convertToInteractive',\n",
              "                                                     [key], {});\n",
              "          if (!dataTable) return;\n",
              "\n",
              "          const docLinkHtml = 'Like what you see? Visit the ' +\n",
              "            '<a target=\"_blank\" href=https://colab.research.google.com/notebooks/data_table.ipynb>data table notebook</a>'\n",
              "            + ' to learn more about interactive tables.';\n",
              "          element.innerHTML = '';\n",
              "          dataTable['output_type'] = 'display_data';\n",
              "          await google.colab.output.renderOutput(dataTable, element);\n",
              "          const docLink = document.createElement('div');\n",
              "          docLink.innerHTML = docLinkHtml;\n",
              "          element.appendChild(docLink);\n",
              "        }\n",
              "      </script>\n",
              "    </div>\n",
              "  </div>\n",
              "  "
            ]
          },
          "metadata": {},
          "execution_count": 112
        }
      ],
      "source": [
        "df"
      ]
    },
    {
      "cell_type": "code",
      "execution_count": null,
      "metadata": {
        "colab": {
          "base_uri": "https://localhost:8080/"
        },
        "id": "llTarGz9F5Vp",
        "outputId": "c94c6856-7992-4c91-b3eb-861e8ffcfb8f"
      },
      "outputs": [
        {
          "output_type": "execute_result",
          "data": {
            "text/plain": [
              "Clave          240\n",
              "Estudio        248\n",
              "Costo_dlls     171\n",
              "Fecha         1836\n",
              "Genero           2\n",
              "Cantidad         1\n",
              "Periodo          3\n",
              "Mes             12\n",
              "Dia             31\n",
              "dtype: int64"
            ]
          },
          "metadata": {},
          "execution_count": 113
        }
      ],
      "source": [
        "#Aplicamos el metodo nunique() para saber los valores únicos de cada variable\n",
        "df.nunique()"
      ]
    },
    {
      "cell_type": "code",
      "execution_count": null,
      "metadata": {
        "id": "ecsBfh26MBU1"
      },
      "outputs": [],
      "source": [
        "#Creando las columnas de cada \"Genero\"\n",
        "\n",
        "df_genero = pd.get_dummies(df, columns = [\"Genero\"], dtype= int)\n",
        "#Con el metódo pd.get_dummies vamos a crear 2 columnas \n",
        "#Esas columnas llevaran el nombre de la columna original seguido del nombre de su categoria siendo \"1\"\n",
        "#Támbien determinamos el tipo de variable con dtype= int"
      ]
    },
    {
      "cell_type": "code",
      "execution_count": null,
      "metadata": {
        "id": "VxF_PbtBDra6"
      },
      "outputs": [],
      "source": [
        "#Creación de genero dataset\n",
        "df_top_genero = df_genero.groupby(['Periodo', 'Estudio'])[['Genero_Masculino', 'Genero_Femenino']].sum().reset_index().sort_values(by='Genero_Femenino', ascending= False).head(9)"
      ]
    },
    {
      "cell_type": "code",
      "execution_count": null,
      "metadata": {
        "colab": {
          "base_uri": "https://localhost:8080/",
          "height": 332
        },
        "id": "xJYLFM-NqB_t",
        "outputId": "8ecbd916-7b83-4ac4-f09b-f108e206a20a"
      },
      "outputs": [
        {
          "output_type": "execute_result",
          "data": {
            "text/plain": [
              "    Periodo                                   Estudio  Genero_Masculino  \\\n",
              "456    2021                  PRUEBA DE CONTAGIO COVID               800   \n",
              "185    2020              CITOMETRIA HEMATICA COMPLETA               467   \n",
              "392    2021                   EXAMEN GENERAL DE ORINA               354   \n",
              "348    2021              CITOMETRIA HEMATICA COMPLETA               365   \n",
              "459    2021  QUIMICA SANGUINEA COMPLETA (7 ELEMENTOS)               305   \n",
              "457    2021                  PRUEBA DE EMBARAZO (PIE)                 0   \n",
              "223    2020                   EXAMEN GENERAL DE ORINA               241   \n",
              "275    2020                  PRUEBA DE EMBARAZO (PIE)                 0   \n",
              "278    2020  QUIMICA SANGUINEA COMPLETA (7 ELEMENTOS)               247   \n",
              "\n",
              "     Genero_Femenino  \n",
              "456              890  \n",
              "185              602  \n",
              "392              517  \n",
              "348              491  \n",
              "459              432  \n",
              "457              377  \n",
              "223              355  \n",
              "275              302  \n",
              "278              295  "
            ],
            "text/html": [
              "\n",
              "  <div id=\"df-73cb154b-f0d0-49d2-bd7a-bbee3751d85a\">\n",
              "    <div class=\"colab-df-container\">\n",
              "      <div>\n",
              "<style scoped>\n",
              "    .dataframe tbody tr th:only-of-type {\n",
              "        vertical-align: middle;\n",
              "    }\n",
              "\n",
              "    .dataframe tbody tr th {\n",
              "        vertical-align: top;\n",
              "    }\n",
              "\n",
              "    .dataframe thead th {\n",
              "        text-align: right;\n",
              "    }\n",
              "</style>\n",
              "<table border=\"1\" class=\"dataframe\">\n",
              "  <thead>\n",
              "    <tr style=\"text-align: right;\">\n",
              "      <th></th>\n",
              "      <th>Periodo</th>\n",
              "      <th>Estudio</th>\n",
              "      <th>Genero_Masculino</th>\n",
              "      <th>Genero_Femenino</th>\n",
              "    </tr>\n",
              "  </thead>\n",
              "  <tbody>\n",
              "    <tr>\n",
              "      <th>456</th>\n",
              "      <td>2021</td>\n",
              "      <td>PRUEBA DE CONTAGIO COVID</td>\n",
              "      <td>800</td>\n",
              "      <td>890</td>\n",
              "    </tr>\n",
              "    <tr>\n",
              "      <th>185</th>\n",
              "      <td>2020</td>\n",
              "      <td>CITOMETRIA HEMATICA COMPLETA</td>\n",
              "      <td>467</td>\n",
              "      <td>602</td>\n",
              "    </tr>\n",
              "    <tr>\n",
              "      <th>392</th>\n",
              "      <td>2021</td>\n",
              "      <td>EXAMEN GENERAL DE ORINA</td>\n",
              "      <td>354</td>\n",
              "      <td>517</td>\n",
              "    </tr>\n",
              "    <tr>\n",
              "      <th>348</th>\n",
              "      <td>2021</td>\n",
              "      <td>CITOMETRIA HEMATICA COMPLETA</td>\n",
              "      <td>365</td>\n",
              "      <td>491</td>\n",
              "    </tr>\n",
              "    <tr>\n",
              "      <th>459</th>\n",
              "      <td>2021</td>\n",
              "      <td>QUIMICA SANGUINEA COMPLETA (7 ELEMENTOS)</td>\n",
              "      <td>305</td>\n",
              "      <td>432</td>\n",
              "    </tr>\n",
              "    <tr>\n",
              "      <th>457</th>\n",
              "      <td>2021</td>\n",
              "      <td>PRUEBA DE EMBARAZO (PIE)</td>\n",
              "      <td>0</td>\n",
              "      <td>377</td>\n",
              "    </tr>\n",
              "    <tr>\n",
              "      <th>223</th>\n",
              "      <td>2020</td>\n",
              "      <td>EXAMEN GENERAL DE ORINA</td>\n",
              "      <td>241</td>\n",
              "      <td>355</td>\n",
              "    </tr>\n",
              "    <tr>\n",
              "      <th>275</th>\n",
              "      <td>2020</td>\n",
              "      <td>PRUEBA DE EMBARAZO (PIE)</td>\n",
              "      <td>0</td>\n",
              "      <td>302</td>\n",
              "    </tr>\n",
              "    <tr>\n",
              "      <th>278</th>\n",
              "      <td>2020</td>\n",
              "      <td>QUIMICA SANGUINEA COMPLETA (7 ELEMENTOS)</td>\n",
              "      <td>247</td>\n",
              "      <td>295</td>\n",
              "    </tr>\n",
              "  </tbody>\n",
              "</table>\n",
              "</div>\n",
              "      <button class=\"colab-df-convert\" onclick=\"convertToInteractive('df-73cb154b-f0d0-49d2-bd7a-bbee3751d85a')\"\n",
              "              title=\"Convert this dataframe to an interactive table.\"\n",
              "              style=\"display:none;\">\n",
              "        \n",
              "  <svg xmlns=\"http://www.w3.org/2000/svg\" height=\"24px\"viewBox=\"0 0 24 24\"\n",
              "       width=\"24px\">\n",
              "    <path d=\"M0 0h24v24H0V0z\" fill=\"none\"/>\n",
              "    <path d=\"M18.56 5.44l.94 2.06.94-2.06 2.06-.94-2.06-.94-.94-2.06-.94 2.06-2.06.94zm-11 1L8.5 8.5l.94-2.06 2.06-.94-2.06-.94L8.5 2.5l-.94 2.06-2.06.94zm10 10l.94 2.06.94-2.06 2.06-.94-2.06-.94-.94-2.06-.94 2.06-2.06.94z\"/><path d=\"M17.41 7.96l-1.37-1.37c-.4-.4-.92-.59-1.43-.59-.52 0-1.04.2-1.43.59L10.3 9.45l-7.72 7.72c-.78.78-.78 2.05 0 2.83L4 21.41c.39.39.9.59 1.41.59.51 0 1.02-.2 1.41-.59l7.78-7.78 2.81-2.81c.8-.78.8-2.07 0-2.86zM5.41 20L4 18.59l7.72-7.72 1.47 1.35L5.41 20z\"/>\n",
              "  </svg>\n",
              "      </button>\n",
              "      \n",
              "  <style>\n",
              "    .colab-df-container {\n",
              "      display:flex;\n",
              "      flex-wrap:wrap;\n",
              "      gap: 12px;\n",
              "    }\n",
              "\n",
              "    .colab-df-convert {\n",
              "      background-color: #E8F0FE;\n",
              "      border: none;\n",
              "      border-radius: 50%;\n",
              "      cursor: pointer;\n",
              "      display: none;\n",
              "      fill: #1967D2;\n",
              "      height: 32px;\n",
              "      padding: 0 0 0 0;\n",
              "      width: 32px;\n",
              "    }\n",
              "\n",
              "    .colab-df-convert:hover {\n",
              "      background-color: #E2EBFA;\n",
              "      box-shadow: 0px 1px 2px rgba(60, 64, 67, 0.3), 0px 1px 3px 1px rgba(60, 64, 67, 0.15);\n",
              "      fill: #174EA6;\n",
              "    }\n",
              "\n",
              "    [theme=dark] .colab-df-convert {\n",
              "      background-color: #3B4455;\n",
              "      fill: #D2E3FC;\n",
              "    }\n",
              "\n",
              "    [theme=dark] .colab-df-convert:hover {\n",
              "      background-color: #434B5C;\n",
              "      box-shadow: 0px 1px 3px 1px rgba(0, 0, 0, 0.15);\n",
              "      filter: drop-shadow(0px 1px 2px rgba(0, 0, 0, 0.3));\n",
              "      fill: #FFFFFF;\n",
              "    }\n",
              "  </style>\n",
              "\n",
              "      <script>\n",
              "        const buttonEl =\n",
              "          document.querySelector('#df-73cb154b-f0d0-49d2-bd7a-bbee3751d85a button.colab-df-convert');\n",
              "        buttonEl.style.display =\n",
              "          google.colab.kernel.accessAllowed ? 'block' : 'none';\n",
              "\n",
              "        async function convertToInteractive(key) {\n",
              "          const element = document.querySelector('#df-73cb154b-f0d0-49d2-bd7a-bbee3751d85a');\n",
              "          const dataTable =\n",
              "            await google.colab.kernel.invokeFunction('convertToInteractive',\n",
              "                                                     [key], {});\n",
              "          if (!dataTable) return;\n",
              "\n",
              "          const docLinkHtml = 'Like what you see? Visit the ' +\n",
              "            '<a target=\"_blank\" href=https://colab.research.google.com/notebooks/data_table.ipynb>data table notebook</a>'\n",
              "            + ' to learn more about interactive tables.';\n",
              "          element.innerHTML = '';\n",
              "          dataTable['output_type'] = 'display_data';\n",
              "          await google.colab.output.renderOutput(dataTable, element);\n",
              "          const docLink = document.createElement('div');\n",
              "          docLink.innerHTML = docLinkHtml;\n",
              "          element.appendChild(docLink);\n",
              "        }\n",
              "      </script>\n",
              "    </div>\n",
              "  </div>\n",
              "  "
            ]
          },
          "metadata": {},
          "execution_count": 116
        }
      ],
      "source": [
        "df_top_genero"
      ]
    },
    {
      "cell_type": "code",
      "execution_count": null,
      "metadata": {
        "id": "r-oXv_Z0Mmj0",
        "colab": {
          "base_uri": "https://localhost:8080/",
          "height": 81
        },
        "outputId": "468b194c-d752-4bf5-e21a-c70a36b46c22"
      },
      "outputs": [
        {
          "output_type": "execute_result",
          "data": {
            "text/plain": [
              "Periodo   2019  2020  2021\n",
              "Cantidad  2206  4970  8298"
            ],
            "text/html": [
              "\n",
              "  <div id=\"df-da55cc12-b716-4d43-b88b-a7971308d70b\">\n",
              "    <div class=\"colab-df-container\">\n",
              "      <div>\n",
              "<style scoped>\n",
              "    .dataframe tbody tr th:only-of-type {\n",
              "        vertical-align: middle;\n",
              "    }\n",
              "\n",
              "    .dataframe tbody tr th {\n",
              "        vertical-align: top;\n",
              "    }\n",
              "\n",
              "    .dataframe thead th {\n",
              "        text-align: right;\n",
              "    }\n",
              "</style>\n",
              "<table border=\"1\" class=\"dataframe\">\n",
              "  <thead>\n",
              "    <tr style=\"text-align: right;\">\n",
              "      <th>Periodo</th>\n",
              "      <th>2019</th>\n",
              "      <th>2020</th>\n",
              "      <th>2021</th>\n",
              "    </tr>\n",
              "  </thead>\n",
              "  <tbody>\n",
              "    <tr>\n",
              "      <th>Cantidad</th>\n",
              "      <td>2206</td>\n",
              "      <td>4970</td>\n",
              "      <td>8298</td>\n",
              "    </tr>\n",
              "  </tbody>\n",
              "</table>\n",
              "</div>\n",
              "      <button class=\"colab-df-convert\" onclick=\"convertToInteractive('df-da55cc12-b716-4d43-b88b-a7971308d70b')\"\n",
              "              title=\"Convert this dataframe to an interactive table.\"\n",
              "              style=\"display:none;\">\n",
              "        \n",
              "  <svg xmlns=\"http://www.w3.org/2000/svg\" height=\"24px\"viewBox=\"0 0 24 24\"\n",
              "       width=\"24px\">\n",
              "    <path d=\"M0 0h24v24H0V0z\" fill=\"none\"/>\n",
              "    <path d=\"M18.56 5.44l.94 2.06.94-2.06 2.06-.94-2.06-.94-.94-2.06-.94 2.06-2.06.94zm-11 1L8.5 8.5l.94-2.06 2.06-.94-2.06-.94L8.5 2.5l-.94 2.06-2.06.94zm10 10l.94 2.06.94-2.06 2.06-.94-2.06-.94-.94-2.06-.94 2.06-2.06.94z\"/><path d=\"M17.41 7.96l-1.37-1.37c-.4-.4-.92-.59-1.43-.59-.52 0-1.04.2-1.43.59L10.3 9.45l-7.72 7.72c-.78.78-.78 2.05 0 2.83L4 21.41c.39.39.9.59 1.41.59.51 0 1.02-.2 1.41-.59l7.78-7.78 2.81-2.81c.8-.78.8-2.07 0-2.86zM5.41 20L4 18.59l7.72-7.72 1.47 1.35L5.41 20z\"/>\n",
              "  </svg>\n",
              "      </button>\n",
              "      \n",
              "  <style>\n",
              "    .colab-df-container {\n",
              "      display:flex;\n",
              "      flex-wrap:wrap;\n",
              "      gap: 12px;\n",
              "    }\n",
              "\n",
              "    .colab-df-convert {\n",
              "      background-color: #E8F0FE;\n",
              "      border: none;\n",
              "      border-radius: 50%;\n",
              "      cursor: pointer;\n",
              "      display: none;\n",
              "      fill: #1967D2;\n",
              "      height: 32px;\n",
              "      padding: 0 0 0 0;\n",
              "      width: 32px;\n",
              "    }\n",
              "\n",
              "    .colab-df-convert:hover {\n",
              "      background-color: #E2EBFA;\n",
              "      box-shadow: 0px 1px 2px rgba(60, 64, 67, 0.3), 0px 1px 3px 1px rgba(60, 64, 67, 0.15);\n",
              "      fill: #174EA6;\n",
              "    }\n",
              "\n",
              "    [theme=dark] .colab-df-convert {\n",
              "      background-color: #3B4455;\n",
              "      fill: #D2E3FC;\n",
              "    }\n",
              "\n",
              "    [theme=dark] .colab-df-convert:hover {\n",
              "      background-color: #434B5C;\n",
              "      box-shadow: 0px 1px 3px 1px rgba(0, 0, 0, 0.15);\n",
              "      filter: drop-shadow(0px 1px 2px rgba(0, 0, 0, 0.3));\n",
              "      fill: #FFFFFF;\n",
              "    }\n",
              "  </style>\n",
              "\n",
              "      <script>\n",
              "        const buttonEl =\n",
              "          document.querySelector('#df-da55cc12-b716-4d43-b88b-a7971308d70b button.colab-df-convert');\n",
              "        buttonEl.style.display =\n",
              "          google.colab.kernel.accessAllowed ? 'block' : 'none';\n",
              "\n",
              "        async function convertToInteractive(key) {\n",
              "          const element = document.querySelector('#df-da55cc12-b716-4d43-b88b-a7971308d70b');\n",
              "          const dataTable =\n",
              "            await google.colab.kernel.invokeFunction('convertToInteractive',\n",
              "                                                     [key], {});\n",
              "          if (!dataTable) return;\n",
              "\n",
              "          const docLinkHtml = 'Like what you see? Visit the ' +\n",
              "            '<a target=\"_blank\" href=https://colab.research.google.com/notebooks/data_table.ipynb>data table notebook</a>'\n",
              "            + ' to learn more about interactive tables.';\n",
              "          element.innerHTML = '';\n",
              "          dataTable['output_type'] = 'display_data';\n",
              "          await google.colab.output.renderOutput(dataTable, element);\n",
              "          const docLink = document.createElement('div');\n",
              "          docLink.innerHTML = docLinkHtml;\n",
              "          element.appendChild(docLink);\n",
              "        }\n",
              "      </script>\n",
              "    </div>\n",
              "  </div>\n",
              "  "
            ]
          },
          "metadata": {},
          "execution_count": 117
        }
      ],
      "source": [
        "#Creamos el groupby\n",
        "tabla_incr_anual = df.groupby(['Periodo'])[['Cantidad']].sum()#.reset_index() \n",
        "\n",
        "#Aplicamos metodo Transpose\n",
        "tabla_incr_anual.T"
      ]
    },
    {
      "cell_type": "code",
      "execution_count": null,
      "metadata": {
        "colab": {
          "base_uri": "https://localhost:8080/"
        },
        "id": "0ql_xgaLOCRJ",
        "outputId": "d15891dd-4902-48b3-bd27-30de3a130745"
      },
      "outputs": [
        {
          "output_type": "stream",
          "name": "stdout",
          "text": [
            "El porcentaje de estudios clínicos realizados del 2019 al 2020 aumento  un 128.11%\n",
            "El porcentaje de estudios clínicos realizados del 2020 al 2021 aumento  un 72.28%\n",
            "El porcentaje de estudios clínicos realizados del 2020 al 2021 aumento  un 292.97%\n"
          ]
        }
      ],
      "source": [
        "Increm19_20 = (5032 - 2206)/(2206)*100\n",
        "print(\"El porcentaje de estudios clínicos realizados del 2019 al 2020 aumento  un \" f\"{Increm19_20:.2f}%\")\n",
        "\n",
        "Increm20_21 = (8669- 5032)/(5032)*100\n",
        "print(\"El porcentaje de estudios clínicos realizados del 2020 al 2021 aumento  un \" f\"{Increm20_21:.2f}%\")\n",
        "\n",
        "Increm19_21 = (8669- 2206)/(2206)*100\n",
        "print(\"El porcentaje de estudios clínicos realizados del 2020 al 2021 aumento  un \" f\"{Increm19_21:.2f}%\")"
      ]
    },
    {
      "cell_type": "markdown",
      "metadata": {
        "id": "vkXZnHjf6inX"
      },
      "source": [
        "## 5. Incremento porcentual del 2019 al 2021\n",
        "\n",
        "- El porcentaje de estudios clínicos realizados del 2019 al 2020 aumento  un 128.11%\n",
        "- El porcentaje de estudios clínicos realizados del 2020 al 2021 aumento  un 72.28%\n",
        "- El porcentaje de estudios clínicos realizados del 2019 al 2021 aumento  un 292.97%"
      ]
    },
    {
      "cell_type": "markdown",
      "metadata": {
        "id": "KCaqucpp8TcT"
      },
      "source": [
        "##6. Comparando la cantidad de estudios realizados del 2019 al 2021"
      ]
    },
    {
      "cell_type": "code",
      "execution_count": null,
      "metadata": {
        "colab": {
          "base_uri": "https://localhost:8080/",
          "height": 175
        },
        "id": "MJbvXDPtN3Z5",
        "outputId": "e93401cb-e971-4d08-fcd9-d60262762f7e"
      },
      "outputs": [
        {
          "output_type": "execute_result",
          "data": {
            "text/plain": [
              "         Cantidad\n",
              "Periodo          \n",
              "2019         2206\n",
              "2020         4970\n",
              "2021         8298"
            ],
            "text/html": [
              "\n",
              "  <div id=\"df-9564ee25-4174-49e7-9b92-56712c4060f2\">\n",
              "    <div class=\"colab-df-container\">\n",
              "      <div>\n",
              "<style scoped>\n",
              "    .dataframe tbody tr th:only-of-type {\n",
              "        vertical-align: middle;\n",
              "    }\n",
              "\n",
              "    .dataframe tbody tr th {\n",
              "        vertical-align: top;\n",
              "    }\n",
              "\n",
              "    .dataframe thead th {\n",
              "        text-align: right;\n",
              "    }\n",
              "</style>\n",
              "<table border=\"1\" class=\"dataframe\">\n",
              "  <thead>\n",
              "    <tr style=\"text-align: right;\">\n",
              "      <th></th>\n",
              "      <th>Cantidad</th>\n",
              "    </tr>\n",
              "    <tr>\n",
              "      <th>Periodo</th>\n",
              "      <th></th>\n",
              "    </tr>\n",
              "  </thead>\n",
              "  <tbody>\n",
              "    <tr>\n",
              "      <th>2019</th>\n",
              "      <td>2206</td>\n",
              "    </tr>\n",
              "    <tr>\n",
              "      <th>2020</th>\n",
              "      <td>4970</td>\n",
              "    </tr>\n",
              "    <tr>\n",
              "      <th>2021</th>\n",
              "      <td>8298</td>\n",
              "    </tr>\n",
              "  </tbody>\n",
              "</table>\n",
              "</div>\n",
              "      <button class=\"colab-df-convert\" onclick=\"convertToInteractive('df-9564ee25-4174-49e7-9b92-56712c4060f2')\"\n",
              "              title=\"Convert this dataframe to an interactive table.\"\n",
              "              style=\"display:none;\">\n",
              "        \n",
              "  <svg xmlns=\"http://www.w3.org/2000/svg\" height=\"24px\"viewBox=\"0 0 24 24\"\n",
              "       width=\"24px\">\n",
              "    <path d=\"M0 0h24v24H0V0z\" fill=\"none\"/>\n",
              "    <path d=\"M18.56 5.44l.94 2.06.94-2.06 2.06-.94-2.06-.94-.94-2.06-.94 2.06-2.06.94zm-11 1L8.5 8.5l.94-2.06 2.06-.94-2.06-.94L8.5 2.5l-.94 2.06-2.06.94zm10 10l.94 2.06.94-2.06 2.06-.94-2.06-.94-.94-2.06-.94 2.06-2.06.94z\"/><path d=\"M17.41 7.96l-1.37-1.37c-.4-.4-.92-.59-1.43-.59-.52 0-1.04.2-1.43.59L10.3 9.45l-7.72 7.72c-.78.78-.78 2.05 0 2.83L4 21.41c.39.39.9.59 1.41.59.51 0 1.02-.2 1.41-.59l7.78-7.78 2.81-2.81c.8-.78.8-2.07 0-2.86zM5.41 20L4 18.59l7.72-7.72 1.47 1.35L5.41 20z\"/>\n",
              "  </svg>\n",
              "      </button>\n",
              "      \n",
              "  <style>\n",
              "    .colab-df-container {\n",
              "      display:flex;\n",
              "      flex-wrap:wrap;\n",
              "      gap: 12px;\n",
              "    }\n",
              "\n",
              "    .colab-df-convert {\n",
              "      background-color: #E8F0FE;\n",
              "      border: none;\n",
              "      border-radius: 50%;\n",
              "      cursor: pointer;\n",
              "      display: none;\n",
              "      fill: #1967D2;\n",
              "      height: 32px;\n",
              "      padding: 0 0 0 0;\n",
              "      width: 32px;\n",
              "    }\n",
              "\n",
              "    .colab-df-convert:hover {\n",
              "      background-color: #E2EBFA;\n",
              "      box-shadow: 0px 1px 2px rgba(60, 64, 67, 0.3), 0px 1px 3px 1px rgba(60, 64, 67, 0.15);\n",
              "      fill: #174EA6;\n",
              "    }\n",
              "\n",
              "    [theme=dark] .colab-df-convert {\n",
              "      background-color: #3B4455;\n",
              "      fill: #D2E3FC;\n",
              "    }\n",
              "\n",
              "    [theme=dark] .colab-df-convert:hover {\n",
              "      background-color: #434B5C;\n",
              "      box-shadow: 0px 1px 3px 1px rgba(0, 0, 0, 0.15);\n",
              "      filter: drop-shadow(0px 1px 2px rgba(0, 0, 0, 0.3));\n",
              "      fill: #FFFFFF;\n",
              "    }\n",
              "  </style>\n",
              "\n",
              "      <script>\n",
              "        const buttonEl =\n",
              "          document.querySelector('#df-9564ee25-4174-49e7-9b92-56712c4060f2 button.colab-df-convert');\n",
              "        buttonEl.style.display =\n",
              "          google.colab.kernel.accessAllowed ? 'block' : 'none';\n",
              "\n",
              "        async function convertToInteractive(key) {\n",
              "          const element = document.querySelector('#df-9564ee25-4174-49e7-9b92-56712c4060f2');\n",
              "          const dataTable =\n",
              "            await google.colab.kernel.invokeFunction('convertToInteractive',\n",
              "                                                     [key], {});\n",
              "          if (!dataTable) return;\n",
              "\n",
              "          const docLinkHtml = 'Like what you see? Visit the ' +\n",
              "            '<a target=\"_blank\" href=https://colab.research.google.com/notebooks/data_table.ipynb>data table notebook</a>'\n",
              "            + ' to learn more about interactive tables.';\n",
              "          element.innerHTML = '';\n",
              "          dataTable['output_type'] = 'display_data';\n",
              "          await google.colab.output.renderOutput(dataTable, element);\n",
              "          const docLink = document.createElement('div');\n",
              "          docLink.innerHTML = docLinkHtml;\n",
              "          element.appendChild(docLink);\n",
              "        }\n",
              "      </script>\n",
              "    </div>\n",
              "  </div>\n",
              "  "
            ]
          },
          "metadata": {},
          "execution_count": 119
        }
      ],
      "source": [
        "tabla_incr_anual"
      ]
    },
    {
      "cell_type": "code",
      "execution_count": null,
      "metadata": {
        "colab": {
          "base_uri": "https://localhost:8080/",
          "height": 455
        },
        "id": "rjCp5e3MM4Vl",
        "outputId": "30fd843c-b138-4e35-d164-7ad57a54413f"
      },
      "outputs": [
        {
          "output_type": "display_data",
          "data": {
            "text/plain": [
              "<Figure size 432x432 with 1 Axes>"
            ],
            "image/png": "[encoded data removed]"
          },
          "metadata": {}
        }
      ],
      "source": [
        "#Usar un estilo de grilla\n",
        "sns.set()\n",
        "fig = plt.figure(figsize =(6, 6)) \n",
        "sns.countplot(data=df, x='Periodo')\n",
        "\n",
        "#Parámetros de la gráfica\n",
        "plt.title('\\n Gráfica del crecimiento de la demanda de estudios clínicos del 2019 al 2021  \\n')\n",
        "plt.xlabel('\\n ')\n",
        "plt.ylabel('\\n Cantidad de estudios realizados \\n')\n",
        "plt.xticks(rotation = 0);\n",
        "plt.savefig(\"Comparacion_estudios_total.jpg\", dpi=100, bbox_inches='tight') #Guardamos la gráfica"
      ]
    },
    {
      "cell_type": "markdown",
      "source": [
        "Creando la tabla de los 10 estudios más solicitados en cada uno de los 3 años"
      ],
      "metadata": {
        "id": "kXyMUAL5mEvH"
      }
    },
    {
      "cell_type": "code",
      "execution_count": null,
      "metadata": {
        "colab": {
          "base_uri": "https://localhost:8080/",
          "height": 702
        },
        "id": "xLb8KmqFuuXH",
        "outputId": "bbd7a549-40e0-4316-a07f-656062bd8bfc"
      },
      "outputs": [
        {
          "output_type": "execute_result",
          "data": {
            "text/plain": [
              "                                    Estudio Periodo  Cantidad  \\\n",
              "0              CITOMETRIA HEMATICA COMPLETA    2019       413   \n",
              "1                   EXAMEN GENERAL DE ORINA    2019       282   \n",
              "2  QUIMICA SANGUINEA COMPLETA (7 ELEMENTOS)    2019       246   \n",
              "3                  PRUEBA DE EMBARAZO (PIE)    2019       110   \n",
              "4                      GRUPO SANGUINEO Y RH    2019        88   \n",
              "5                   HEMOGLOBINA GLUCOSILADA    2019        72   \n",
              "6                            GLUCOSA SERICA    2019        56   \n",
              "7                 QUIMICA SANGUINEA PARCIAL    2019        46   \n",
              "8                         VIH (CUALITATIVA)    2019        38   \n",
              "9                       REACCIONES FEBRILES    2019        38   \n",
              "\n",
              "                                    Estudio Periodo  Cantidad  \\\n",
              "0              CITOMETRIA HEMATICA COMPLETA    2020      1069   \n",
              "1                   EXAMEN GENERAL DE ORINA    2020       596   \n",
              "2  QUIMICA SANGUINEA COMPLETA (7 ELEMENTOS)    2020       542   \n",
              "3                  PRUEBA DE EMBARAZO (PIE)    2020       302   \n",
              "4                   HEMOGLOBINA GLUCOSILADA    2020       212   \n",
              "5                      DENGUE NS1 Igg e Igm    2020       194   \n",
              "6                  PRUEBA COVID ANTICUERPOS    2020       147   \n",
              "7                  PRUEBA DE CONTAGIO COVID    2020       119   \n",
              "8         QUIMICA SANGUINEA DE 10 ELEMENTOS    2020       102   \n",
              "9                            GLUCOSA SERICA    2020        93   \n",
              "\n",
              "                                    Estudio Periodo  Cantidad  \n",
              "0                  PRUEBA DE CONTAGIO COVID    2021      1690  \n",
              "1                   EXAMEN GENERAL DE ORINA    2021       871  \n",
              "2              CITOMETRIA HEMATICA COMPLETA    2021       856  \n",
              "3  QUIMICA SANGUINEA COMPLETA (7 ELEMENTOS)    2021       737  \n",
              "4                   HEMOGLOBINA GLUCOSILADA    2021       474  \n",
              "5                  PRUEBA DE EMBARAZO (PIE)    2021       377  \n",
              "6                  PRUEBA COVID ANTICUERPOS    2021       264  \n",
              "7                                DIMERO \"D\"    2021       253  \n",
              "8         QUIMICA SANGUINEA DE 10 ELEMENTOS    2021       201  \n",
              "9                      GRUPO SANGUINEO Y RH    2021       164  "
            ],
            "text/html": [
              "\n",
              "  <div id=\"df-6cf69d80-357d-437d-b125-49e0ba631607\">\n",
              "    <div class=\"colab-df-container\">\n",
              "      <div>\n",
              "<style scoped>\n",
              "    .dataframe tbody tr th:only-of-type {\n",
              "        vertical-align: middle;\n",
              "    }\n",
              "\n",
              "    .dataframe tbody tr th {\n",
              "        vertical-align: top;\n",
              "    }\n",
              "\n",
              "    .dataframe thead th {\n",
              "        text-align: right;\n",
              "    }\n",
              "</style>\n",
              "<table border=\"1\" class=\"dataframe\">\n",
              "  <thead>\n",
              "    <tr style=\"text-align: right;\">\n",
              "      <th></th>\n",
              "      <th>Estudio</th>\n",
              "      <th>Periodo</th>\n",
              "      <th>Cantidad</th>\n",
              "      <th>Estudio</th>\n",
              "      <th>Periodo</th>\n",
              "      <th>Cantidad</th>\n",
              "      <th>Estudio</th>\n",
              "      <th>Periodo</th>\n",
              "      <th>Cantidad</th>\n",
              "    </tr>\n",
              "  </thead>\n",
              "  <tbody>\n",
              "    <tr>\n",
              "      <th>0</th>\n",
              "      <td>CITOMETRIA HEMATICA COMPLETA</td>\n",
              "      <td>2019</td>\n",
              "      <td>413</td>\n",
              "      <td>CITOMETRIA HEMATICA COMPLETA</td>\n",
              "      <td>2020</td>\n",
              "      <td>1069</td>\n",
              "      <td>PRUEBA DE CONTAGIO COVID</td>\n",
              "      <td>2021</td>\n",
              "      <td>1690</td>\n",
              "    </tr>\n",
              "    <tr>\n",
              "      <th>1</th>\n",
              "      <td>EXAMEN GENERAL DE ORINA</td>\n",
              "      <td>2019</td>\n",
              "      <td>282</td>\n",
              "      <td>EXAMEN GENERAL DE ORINA</td>\n",
              "      <td>2020</td>\n",
              "      <td>596</td>\n",
              "      <td>EXAMEN GENERAL DE ORINA</td>\n",
              "      <td>2021</td>\n",
              "      <td>871</td>\n",
              "    </tr>\n",
              "    <tr>\n",
              "      <th>2</th>\n",
              "      <td>QUIMICA SANGUINEA COMPLETA (7 ELEMENTOS)</td>\n",
              "      <td>2019</td>\n",
              "      <td>246</td>\n",
              "      <td>QUIMICA SANGUINEA COMPLETA (7 ELEMENTOS)</td>\n",
              "      <td>2020</td>\n",
              "      <td>542</td>\n",
              "      <td>CITOMETRIA HEMATICA COMPLETA</td>\n",
              "      <td>2021</td>\n",
              "      <td>856</td>\n",
              "    </tr>\n",
              "    <tr>\n",
              "      <th>3</th>\n",
              "      <td>PRUEBA DE EMBARAZO (PIE)</td>\n",
              "      <td>2019</td>\n",
              "      <td>110</td>\n",
              "      <td>PRUEBA DE EMBARAZO (PIE)</td>\n",
              "      <td>2020</td>\n",
              "      <td>302</td>\n",
              "      <td>QUIMICA SANGUINEA COMPLETA (7 ELEMENTOS)</td>\n",
              "      <td>2021</td>\n",
              "      <td>737</td>\n",
              "    </tr>\n",
              "    <tr>\n",
              "      <th>4</th>\n",
              "      <td>GRUPO SANGUINEO Y RH</td>\n",
              "      <td>2019</td>\n",
              "      <td>88</td>\n",
              "      <td>HEMOGLOBINA GLUCOSILADA</td>\n",
              "      <td>2020</td>\n",
              "      <td>212</td>\n",
              "      <td>HEMOGLOBINA GLUCOSILADA</td>\n",
              "      <td>2021</td>\n",
              "      <td>474</td>\n",
              "    </tr>\n",
              "    <tr>\n",
              "      <th>5</th>\n",
              "      <td>HEMOGLOBINA GLUCOSILADA</td>\n",
              "      <td>2019</td>\n",
              "      <td>72</td>\n",
              "      <td>DENGUE NS1 Igg e Igm</td>\n",
              "      <td>2020</td>\n",
              "      <td>194</td>\n",
              "      <td>PRUEBA DE EMBARAZO (PIE)</td>\n",
              "      <td>2021</td>\n",
              "      <td>377</td>\n",
              "    </tr>\n",
              "    <tr>\n",
              "      <th>6</th>\n",
              "      <td>GLUCOSA SERICA</td>\n",
              "      <td>2019</td>\n",
              "      <td>56</td>\n",
              "      <td>PRUEBA COVID ANTICUERPOS</td>\n",
              "      <td>2020</td>\n",
              "      <td>147</td>\n",
              "      <td>PRUEBA COVID ANTICUERPOS</td>\n",
              "      <td>2021</td>\n",
              "      <td>264</td>\n",
              "    </tr>\n",
              "    <tr>\n",
              "      <th>7</th>\n",
              "      <td>QUIMICA SANGUINEA PARCIAL</td>\n",
              "      <td>2019</td>\n",
              "      <td>46</td>\n",
              "      <td>PRUEBA DE CONTAGIO COVID</td>\n",
              "      <td>2020</td>\n",
              "      <td>119</td>\n",
              "      <td>DIMERO \"D\"</td>\n",
              "      <td>2021</td>\n",
              "      <td>253</td>\n",
              "    </tr>\n",
              "    <tr>\n",
              "      <th>8</th>\n",
              "      <td>VIH (CUALITATIVA)</td>\n",
              "      <td>2019</td>\n",
              "      <td>38</td>\n",
              "      <td>QUIMICA SANGUINEA DE 10 ELEMENTOS</td>\n",
              "      <td>2020</td>\n",
              "      <td>102</td>\n",
              "      <td>QUIMICA SANGUINEA DE 10 ELEMENTOS</td>\n",
              "      <td>2021</td>\n",
              "      <td>201</td>\n",
              "    </tr>\n",
              "    <tr>\n",
              "      <th>9</th>\n",
              "      <td>REACCIONES FEBRILES</td>\n",
              "      <td>2019</td>\n",
              "      <td>38</td>\n",
              "      <td>GLUCOSA SERICA</td>\n",
              "      <td>2020</td>\n",
              "      <td>93</td>\n",
              "      <td>GRUPO SANGUINEO Y RH</td>\n",
              "      <td>2021</td>\n",
              "      <td>164</td>\n",
              "    </tr>\n",
              "  </tbody>\n",
              "</table>\n",
              "</div>\n",
              "      <button class=\"colab-df-convert\" onclick=\"convertToInteractive('df-6cf69d80-357d-437d-b125-49e0ba631607')\"\n",
              "              title=\"Convert this dataframe to an interactive table.\"\n",
              "              style=\"display:none;\">\n",
              "        \n",
              "  <svg xmlns=\"http://www.w3.org/2000/svg\" height=\"24px\"viewBox=\"0 0 24 24\"\n",
              "       width=\"24px\">\n",
              "    <path d=\"M0 0h24v24H0V0z\" fill=\"none\"/>\n",
              "    <path d=\"M18.56 5.44l.94 2.06.94-2.06 2.06-.94-2.06-.94-.94-2.06-.94 2.06-2.06.94zm-11 1L8.5 8.5l.94-2.06 2.06-.94-2.06-.94L8.5 2.5l-.94 2.06-2.06.94zm10 10l.94 2.06.94-2.06 2.06-.94-2.06-.94-.94-2.06-.94 2.06-2.06.94z\"/><path d=\"M17.41 7.96l-1.37-1.37c-.4-.4-.92-.59-1.43-.59-.52 0-1.04.2-1.43.59L10.3 9.45l-7.72 7.72c-.78.78-.78 2.05 0 2.83L4 21.41c.39.39.9.59 1.41.59.51 0 1.02-.2 1.41-.59l7.78-7.78 2.81-2.81c.8-.78.8-2.07 0-2.86zM5.41 20L4 18.59l7.72-7.72 1.47 1.35L5.41 20z\"/>\n",
              "  </svg>\n",
              "      </button>\n",
              "      \n",
              "  <style>\n",
              "    .colab-df-container {\n",
              "      display:flex;\n",
              "      flex-wrap:wrap;\n",
              "      gap: 12px;\n",
              "    }\n",
              "\n",
              "    .colab-df-convert {\n",
              "      background-color: #E8F0FE;\n",
              "      border: none;\n",
              "      border-radius: 50%;\n",
              "      cursor: pointer;\n",
              "      display: none;\n",
              "      fill: #1967D2;\n",
              "      height: 32px;\n",
              "      padding: 0 0 0 0;\n",
              "      width: 32px;\n",
              "    }\n",
              "\n",
              "    .colab-df-convert:hover {\n",
              "      background-color: #E2EBFA;\n",
              "      box-shadow: 0px 1px 2px rgba(60, 64, 67, 0.3), 0px 1px 3px 1px rgba(60, 64, 67, 0.15);\n",
              "      fill: #174EA6;\n",
              "    }\n",
              "\n",
              "    [theme=dark] .colab-df-convert {\n",
              "      background-color: #3B4455;\n",
              "      fill: #D2E3FC;\n",
              "    }\n",
              "\n",
              "    [theme=dark] .colab-df-convert:hover {\n",
              "      background-color: #434B5C;\n",
              "      box-shadow: 0px 1px 3px 1px rgba(0, 0, 0, 0.15);\n",
              "      filter: drop-shadow(0px 1px 2px rgba(0, 0, 0, 0.3));\n",
              "      fill: #FFFFFF;\n",
              "    }\n",
              "  </style>\n",
              "\n",
              "      <script>\n",
              "        const buttonEl =\n",
              "          document.querySelector('#df-6cf69d80-357d-437d-b125-49e0ba631607 button.colab-df-convert');\n",
              "        buttonEl.style.display =\n",
              "          google.colab.kernel.accessAllowed ? 'block' : 'none';\n",
              "\n",
              "        async function convertToInteractive(key) {\n",
              "          const element = document.querySelector('#df-6cf69d80-357d-437d-b125-49e0ba631607');\n",
              "          const dataTable =\n",
              "            await google.colab.kernel.invokeFunction('convertToInteractive',\n",
              "                                                     [key], {});\n",
              "          if (!dataTable) return;\n",
              "\n",
              "          const docLinkHtml = 'Like what you see? Visit the ' +\n",
              "            '<a target=\"_blank\" href=https://colab.research.google.com/notebooks/data_table.ipynb>data table notebook</a>'\n",
              "            + ' to learn more about interactive tables.';\n",
              "          element.innerHTML = '';\n",
              "          dataTable['output_type'] = 'display_data';\n",
              "          await google.colab.output.renderOutput(dataTable, element);\n",
              "          const docLink = document.createElement('div');\n",
              "          docLink.innerHTML = docLinkHtml;\n",
              "          element.appendChild(docLink);\n",
              "        }\n",
              "      </script>\n",
              "    </div>\n",
              "  </div>\n",
              "  "
            ]
          },
          "metadata": {},
          "execution_count": 121
        }
      ],
      "source": [
        "#df19.groupby(['Estudio'])[['Cantidad']].sum()#(by='Cantidad', ascending= False).head(10)\n",
        "\n",
        "estudios_top =pd.DataFrame()\n",
        "estudios_top_19 = df19.groupby(['Estudio', 'Periodo'])[['Cantidad']].sum().sort_values(by='Cantidad', ascending= False).head(10).reset_index()\n",
        "estudios_top_20 = df20.groupby(['Estudio', 'Periodo'])[['Cantidad']].sum().sort_values(by='Cantidad', ascending= False).head(10).reset_index()\n",
        "estudios_top_21 = df21.groupby(['Estudio', 'Periodo'])[['Cantidad']].sum().sort_values(by='Cantidad', ascending= False).head(10).reset_index()\n",
        "\n",
        "pd.concat([estudios_top_19, estudios_top_20, estudios_top_21], axis=1)"
      ]
    },
    {
      "cell_type": "markdown",
      "metadata": {
        "id": "z_JoSRfvI_Nd"
      },
      "source": [
        "## 7. Comparando la cantidad de estudios realizados por género del 2019 al 2021"
      ]
    },
    {
      "cell_type": "markdown",
      "source": [
        "Creación del dataframe con la cantidad de estudios realizados por género de cada año"
      ],
      "metadata": {
        "id": "MSLkWWKaCB12"
      }
    },
    {
      "cell_type": "code",
      "source": [
        "#Hacemos un groupby del dataframe df_genero\n",
        "porcentajes_genero = df_genero.groupby(['Periodo'])[['Genero_Femenino', 'Genero_Masculino']].sum()\n",
        "\n",
        "#Usamos el metódo transpose() para pasar nuestras columnas como filas\n",
        "porcentajes_genero = porcentajes_genero.transpose()\n",
        "porcentajes_genero"
      ],
      "metadata": {
        "colab": {
          "base_uri": "https://localhost:8080/",
          "height": 112
        },
        "id": "74banPjgUYnK",
        "outputId": "ca0f1c95-3989-4311-e6eb-1d3d60ac00db"
      },
      "execution_count": null,
      "outputs": [
        {
          "output_type": "execute_result",
          "data": {
            "text/plain": [
              "Periodo           2019  2020  2021\n",
              "Genero_Femenino   1412  2870  4811\n",
              "Genero_Masculino   794  2100  3487"
            ],
            "text/html": [
              "\n",
              "  <div id=\"df-5a557024-d856-4755-9c63-e13fd19faea4\">\n",
              "    <div class=\"colab-df-container\">\n",
              "      <div>\n",
              "<style scoped>\n",
              "    .dataframe tbody tr th:only-of-type {\n",
              "        vertical-align: middle;\n",
              "    }\n",
              "\n",
              "    .dataframe tbody tr th {\n",
              "        vertical-align: top;\n",
              "    }\n",
              "\n",
              "    .dataframe thead th {\n",
              "        text-align: right;\n",
              "    }\n",
              "</style>\n",
              "<table border=\"1\" class=\"dataframe\">\n",
              "  <thead>\n",
              "    <tr style=\"text-align: right;\">\n",
              "      <th>Periodo</th>\n",
              "      <th>2019</th>\n",
              "      <th>2020</th>\n",
              "      <th>2021</th>\n",
              "    </tr>\n",
              "  </thead>\n",
              "  <tbody>\n",
              "    <tr>\n",
              "      <th>Genero_Femenino</th>\n",
              "      <td>1412</td>\n",
              "      <td>2870</td>\n",
              "      <td>4811</td>\n",
              "    </tr>\n",
              "    <tr>\n",
              "      <th>Genero_Masculino</th>\n",
              "      <td>794</td>\n",
              "      <td>2100</td>\n",
              "      <td>3487</td>\n",
              "    </tr>\n",
              "  </tbody>\n",
              "</table>\n",
              "</div>\n",
              "      <button class=\"colab-df-convert\" onclick=\"convertToInteractive('df-5a557024-d856-4755-9c63-e13fd19faea4')\"\n",
              "              title=\"Convert this dataframe to an interactive table.\"\n",
              "              style=\"display:none;\">\n",
              "        \n",
              "  <svg xmlns=\"http://www.w3.org/2000/svg\" height=\"24px\"viewBox=\"0 0 24 24\"\n",
              "       width=\"24px\">\n",
              "    <path d=\"M0 0h24v24H0V0z\" fill=\"none\"/>\n",
              "    <path d=\"M18.56 5.44l.94 2.06.94-2.06 2.06-.94-2.06-.94-.94-2.06-.94 2.06-2.06.94zm-11 1L8.5 8.5l.94-2.06 2.06-.94-2.06-.94L8.5 2.5l-.94 2.06-2.06.94zm10 10l.94 2.06.94-2.06 2.06-.94-2.06-.94-.94-2.06-.94 2.06-2.06.94z\"/><path d=\"M17.41 7.96l-1.37-1.37c-.4-.4-.92-.59-1.43-.59-.52 0-1.04.2-1.43.59L10.3 9.45l-7.72 7.72c-.78.78-.78 2.05 0 2.83L4 21.41c.39.39.9.59 1.41.59.51 0 1.02-.2 1.41-.59l7.78-7.78 2.81-2.81c.8-.78.8-2.07 0-2.86zM5.41 20L4 18.59l7.72-7.72 1.47 1.35L5.41 20z\"/>\n",
              "  </svg>\n",
              "      </button>\n",
              "      \n",
              "  <style>\n",
              "    .colab-df-container {\n",
              "      display:flex;\n",
              "      flex-wrap:wrap;\n",
              "      gap: 12px;\n",
              "    }\n",
              "\n",
              "    .colab-df-convert {\n",
              "      background-color: #E8F0FE;\n",
              "      border: none;\n",
              "      border-radius: 50%;\n",
              "      cursor: pointer;\n",
              "      display: none;\n",
              "      fill: #1967D2;\n",
              "      height: 32px;\n",
              "      padding: 0 0 0 0;\n",
              "      width: 32px;\n",
              "    }\n",
              "\n",
              "    .colab-df-convert:hover {\n",
              "      background-color: #E2EBFA;\n",
              "      box-shadow: 0px 1px 2px rgba(60, 64, 67, 0.3), 0px 1px 3px 1px rgba(60, 64, 67, 0.15);\n",
              "      fill: #174EA6;\n",
              "    }\n",
              "\n",
              "    [theme=dark] .colab-df-convert {\n",
              "      background-color: #3B4455;\n",
              "      fill: #D2E3FC;\n",
              "    }\n",
              "\n",
              "    [theme=dark] .colab-df-convert:hover {\n",
              "      background-color: #434B5C;\n",
              "      box-shadow: 0px 1px 3px 1px rgba(0, 0, 0, 0.15);\n",
              "      filter: drop-shadow(0px 1px 2px rgba(0, 0, 0, 0.3));\n",
              "      fill: #FFFFFF;\n",
              "    }\n",
              "  </style>\n",
              "\n",
              "      <script>\n",
              "        const buttonEl =\n",
              "          document.querySelector('#df-5a557024-d856-4755-9c63-e13fd19faea4 button.colab-df-convert');\n",
              "        buttonEl.style.display =\n",
              "          google.colab.kernel.accessAllowed ? 'block' : 'none';\n",
              "\n",
              "        async function convertToInteractive(key) {\n",
              "          const element = document.querySelector('#df-5a557024-d856-4755-9c63-e13fd19faea4');\n",
              "          const dataTable =\n",
              "            await google.colab.kernel.invokeFunction('convertToInteractive',\n",
              "                                                     [key], {});\n",
              "          if (!dataTable) return;\n",
              "\n",
              "          const docLinkHtml = 'Like what you see? Visit the ' +\n",
              "            '<a target=\"_blank\" href=https://colab.research.google.com/notebooks/data_table.ipynb>data table notebook</a>'\n",
              "            + ' to learn more about interactive tables.';\n",
              "          element.innerHTML = '';\n",
              "          dataTable['output_type'] = 'display_data';\n",
              "          await google.colab.output.renderOutput(dataTable, element);\n",
              "          const docLink = document.createElement('div');\n",
              "          docLink.innerHTML = docLinkHtml;\n",
              "          element.appendChild(docLink);\n",
              "        }\n",
              "      </script>\n",
              "    </div>\n",
              "  </div>\n",
              "  "
            ]
          },
          "metadata": {},
          "execution_count": 122
        }
      ]
    },
    {
      "cell_type": "markdown",
      "source": [
        "Creamos un dataframe con el incremento porcentual de la cantidad de estudios realizados por género"
      ],
      "metadata": {
        "id": "LEmgsoSwC5Sn"
      }
    },
    {
      "cell_type": "code",
      "source": [
        "pociento_incr_genero = pd.DataFrame()\n",
        "pociento_incr_genero['2019-2020'] = (porcentajes_genero['2020']-porcentajes_genero['2019'])/(porcentajes_genero['2019'])*(100)\n",
        "pociento_incr_genero['2020-2021'] = (porcentajes_genero['2021']-porcentajes_genero['2020'])/(porcentajes_genero['2020'])*(100)\n",
        "pociento_incr_genero "
      ],
      "metadata": {
        "colab": {
          "base_uri": "https://localhost:8080/",
          "height": 112
        },
        "id": "UXhvuk72cOvS",
        "outputId": "92069e68-68f5-41d6-9408-954550a55834"
      },
      "execution_count": null,
      "outputs": [
        {
          "output_type": "execute_result",
          "data": {
            "text/plain": [
              "                   2019-2020  2020-2021\n",
              "Genero_Femenino   103.257790  67.630662\n",
              "Genero_Masculino  164.483627  66.047619"
            ],
            "text/html": [
              "\n",
              "  <div id=\"df-5e0f93d7-d2bd-4895-a747-71df89525e26\">\n",
              "    <div class=\"colab-df-container\">\n",
              "      <div>\n",
              "<style scoped>\n",
              "    .dataframe tbody tr th:only-of-type {\n",
              "        vertical-align: middle;\n",
              "    }\n",
              "\n",
              "    .dataframe tbody tr th {\n",
              "        vertical-align: top;\n",
              "    }\n",
              "\n",
              "    .dataframe thead th {\n",
              "        text-align: right;\n",
              "    }\n",
              "</style>\n",
              "<table border=\"1\" class=\"dataframe\">\n",
              "  <thead>\n",
              "    <tr style=\"text-align: right;\">\n",
              "      <th></th>\n",
              "      <th>2019-2020</th>\n",
              "      <th>2020-2021</th>\n",
              "    </tr>\n",
              "  </thead>\n",
              "  <tbody>\n",
              "    <tr>\n",
              "      <th>Genero_Femenino</th>\n",
              "      <td>103.257790</td>\n",
              "      <td>67.630662</td>\n",
              "    </tr>\n",
              "    <tr>\n",
              "      <th>Genero_Masculino</th>\n",
              "      <td>164.483627</td>\n",
              "      <td>66.047619</td>\n",
              "    </tr>\n",
              "  </tbody>\n",
              "</table>\n",
              "</div>\n",
              "      <button class=\"colab-df-convert\" onclick=\"convertToInteractive('df-5e0f93d7-d2bd-4895-a747-71df89525e26')\"\n",
              "              title=\"Convert this dataframe to an interactive table.\"\n",
              "              style=\"display:none;\">\n",
              "        \n",
              "  <svg xmlns=\"http://www.w3.org/2000/svg\" height=\"24px\"viewBox=\"0 0 24 24\"\n",
              "       width=\"24px\">\n",
              "    <path d=\"M0 0h24v24H0V0z\" fill=\"none\"/>\n",
              "    <path d=\"M18.56 5.44l.94 2.06.94-2.06 2.06-.94-2.06-.94-.94-2.06-.94 2.06-2.06.94zm-11 1L8.5 8.5l.94-2.06 2.06-.94-2.06-.94L8.5 2.5l-.94 2.06-2.06.94zm10 10l.94 2.06.94-2.06 2.06-.94-2.06-.94-.94-2.06-.94 2.06-2.06.94z\"/><path d=\"M17.41 7.96l-1.37-1.37c-.4-.4-.92-.59-1.43-.59-.52 0-1.04.2-1.43.59L10.3 9.45l-7.72 7.72c-.78.78-.78 2.05 0 2.83L4 21.41c.39.39.9.59 1.41.59.51 0 1.02-.2 1.41-.59l7.78-7.78 2.81-2.81c.8-.78.8-2.07 0-2.86zM5.41 20L4 18.59l7.72-7.72 1.47 1.35L5.41 20z\"/>\n",
              "  </svg>\n",
              "      </button>\n",
              "      \n",
              "  <style>\n",
              "    .colab-df-container {\n",
              "      display:flex;\n",
              "      flex-wrap:wrap;\n",
              "      gap: 12px;\n",
              "    }\n",
              "\n",
              "    .colab-df-convert {\n",
              "      background-color: #E8F0FE;\n",
              "      border: none;\n",
              "      border-radius: 50%;\n",
              "      cursor: pointer;\n",
              "      display: none;\n",
              "      fill: #1967D2;\n",
              "      height: 32px;\n",
              "      padding: 0 0 0 0;\n",
              "      width: 32px;\n",
              "    }\n",
              "\n",
              "    .colab-df-convert:hover {\n",
              "      background-color: #E2EBFA;\n",
              "      box-shadow: 0px 1px 2px rgba(60, 64, 67, 0.3), 0px 1px 3px 1px rgba(60, 64, 67, 0.15);\n",
              "      fill: #174EA6;\n",
              "    }\n",
              "\n",
              "    [theme=dark] .colab-df-convert {\n",
              "      background-color: #3B4455;\n",
              "      fill: #D2E3FC;\n",
              "    }\n",
              "\n",
              "    [theme=dark] .colab-df-convert:hover {\n",
              "      background-color: #434B5C;\n",
              "      box-shadow: 0px 1px 3px 1px rgba(0, 0, 0, 0.15);\n",
              "      filter: drop-shadow(0px 1px 2px rgba(0, 0, 0, 0.3));\n",
              "      fill: #FFFFFF;\n",
              "    }\n",
              "  </style>\n",
              "\n",
              "      <script>\n",
              "        const buttonEl =\n",
              "          document.querySelector('#df-5e0f93d7-d2bd-4895-a747-71df89525e26 button.colab-df-convert');\n",
              "        buttonEl.style.display =\n",
              "          google.colab.kernel.accessAllowed ? 'block' : 'none';\n",
              "\n",
              "        async function convertToInteractive(key) {\n",
              "          const element = document.querySelector('#df-5e0f93d7-d2bd-4895-a747-71df89525e26');\n",
              "          const dataTable =\n",
              "            await google.colab.kernel.invokeFunction('convertToInteractive',\n",
              "                                                     [key], {});\n",
              "          if (!dataTable) return;\n",
              "\n",
              "          const docLinkHtml = 'Like what you see? Visit the ' +\n",
              "            '<a target=\"_blank\" href=https://colab.research.google.com/notebooks/data_table.ipynb>data table notebook</a>'\n",
              "            + ' to learn more about interactive tables.';\n",
              "          element.innerHTML = '';\n",
              "          dataTable['output_type'] = 'display_data';\n",
              "          await google.colab.output.renderOutput(dataTable, element);\n",
              "          const docLink = document.createElement('div');\n",
              "          docLink.innerHTML = docLinkHtml;\n",
              "          element.appendChild(docLink);\n",
              "        }\n",
              "      </script>\n",
              "    </div>\n",
              "  </div>\n",
              "  "
            ]
          },
          "metadata": {},
          "execution_count": 123
        }
      ]
    },
    {
      "cell_type": "code",
      "execution_count": null,
      "metadata": {
        "colab": {
          "base_uri": "https://localhost:8080/"
        },
        "id": "Q2UI-muhxRDe",
        "outputId": "e4bfcf74-7c60-490d-d527-3948d9997f83"
      },
      "outputs": [
        {
          "output_type": "stream",
          "name": "stdout",
          "text": [
            "El porcentaje de mujeres que se realizaron algún tipo de análisis en el 2019 es del 77.39%\n",
            "El porcentaje que representan las mujeres que se realizaron algún tipo de estudio clínico en el 2020 es del 36.67%\n",
            "El porcentaje que representan l1as mujeres que se realizaron algún tipo de estudio clínico en el 2020 es del 37.97%\n",
            "El incremento del genero femenino en la demanda de ánálisis clínicos del 2019 al 2020 fue de 103.26%\n",
            "El incremento del genero femenino en la demanda de ánálisis clínicos del 2020 al 2021 fue de 67.63%\n",
            "El incremento del genero masculino en la demanda de ánálisis clínicos del 2020 al 2021 fue de 164.48%\n",
            "El incremento del genero masculino en la demanda de ánálisis clínicos del 2020 al 2021 fue de 66.05%\n"
          ]
        }
      ],
      "source": [
        "porcentaje_19 = (1412- 796)/(796)*100  #(8669- 2206)/(2206)*100\n",
        "print(\"El porcentaje de mujeres que se realizaron algún tipo de análisis en el 2019 es del \" f\"{porcentaje_19 :.2f}%\")\n",
        "\n",
        "porcentaje_20 = (2870-2100)/(2100)*100\n",
        "print(\"El porcentaje que representan las mujeres que se realizaron algún tipo de estudio clínico en el 2020 es del \" f\"{porcentaje_20 :.2f}%\")\n",
        "\n",
        "porcentaje_21 = (4811-3487)/(3487)*100\n",
        "print(\"El porcentaje que representan l1as mujeres que se realizaron algún tipo de estudio clínico en el 2020 es del \" f\"{porcentaje_21 :.2f}%\")\n",
        "\n",
        "porcentaje_fem_20 = (2870-1412 )/(1412)*100\n",
        "print(\"El incremento del genero femenino en la demanda de ánálisis clínicos del 2019 al 2020 fue de \" f\"{porcentaje_fem_20 :.2f}%\")\n",
        "\n",
        "porcentaje_fem_21 = (4811-2870)/(2870)*100\n",
        "print(\"El incremento del genero femenino en la demanda de ánálisis clínicos del 2020 al 2021 fue de \" f\"{porcentaje_fem_21 :.2f}%\")\n",
        "\n",
        "porcentaje_mas_20 = (2100-794)/(794)*100\n",
        "print(\"El incremento del genero masculino en la demanda de ánálisis clínicos del 2020 al 2021 fue de \" f\"{porcentaje_mas_20 :.2f}%\")\n",
        "\n",
        "porcentaje_mas_21 = (3487-2100)/(2100)*100\n",
        "print(\"El incremento del genero masculino en la demanda de ánálisis clínicos del 2020 al 2021 fue de \" f\"{porcentaje_mas_21 :.2f}%\")"
      ]
    },
    {
      "cell_type": "markdown",
      "source": [
        "Creamos una gráfica que compare la cantidad de estudios realizados por género en cada año"
      ],
      "metadata": {
        "id": "ar2H29qnDOm9"
      }
    },
    {
      "cell_type": "code",
      "execution_count": null,
      "metadata": {
        "colab": {
          "base_uri": "https://localhost:8080/",
          "height": 455
        },
        "id": "ABjQzJxGEOMB",
        "outputId": "f84f91e7-9522-4cfe-f8cd-47d32cb8b856"
      },
      "outputs": [
        {
          "output_type": "display_data",
          "data": {
            "text/plain": [
              "<Figure size 432x432 with 1 Axes>"
            ],
            "image/png": "[encoded data removed]"
          },
          "metadata": {}
        }
      ],
      "source": [
        "#Usar un estilo de grilla\n",
        "sns.set()\n",
        "\n",
        "#Parámetros de la gráfica\n",
        "fig = plt.figure(figsize =(6, 6)) \n",
        "plt.title('\\n Gráfica del crecimiento de la demanda de estudios clínicos  \\n por genero del 2019 al 2021  \\n')\n",
        "sns.countplot(data=df, x='Periodo', hue='Genero')\n",
        "plt.savefig(\"Comparacion_estudios__genero_año.jpg\", dpi=100, bbox_inches='tight')\n",
        "plt.show()"
      ]
    },
    {
      "cell_type": "markdown",
      "source": [
        "Creación de gráfica tipo \"pie\" comparando el porcentaje de estudios realizados entre los dos géneros en el 2019"
      ],
      "metadata": {
        "id": "tPWSVwKVEPvh"
      }
    },
    {
      "cell_type": "code",
      "execution_count": null,
      "metadata": {
        "colab": {
          "base_uri": "https://localhost:8080/",
          "height": 264
        },
        "id": "s5JEfbNygAUw",
        "outputId": "39fc692b-72a4-4d44-a94d-6c99b9bc4af8"
      },
      "outputs": [
        {
          "output_type": "display_data",
          "data": {
            "text/plain": [
              "<Figure size 432x288 with 1 Axes>"
            ],
            "image/png": "[encoded data removed]"
          },
          "metadata": {}
        }
      ],
      "source": [
        "df19['Genero'].value_counts().plot(kind='pie',   autopct=\"%0.1f %%\", title='Año 2019');\n",
        "plt.savefig(\"Comparación_en_porcentaje_2019.jpg\", dpi=100, bbox_inches='tight')"
      ]
    },
    {
      "cell_type": "markdown",
      "source": [
        "Creación de gráfica tipo \"pie\" comparando el porcentaje de estduios realizados entre los dos géneros en el 2020"
      ],
      "metadata": {
        "id": "nuohUJDKEp3L"
      }
    },
    {
      "cell_type": "code",
      "execution_count": null,
      "metadata": {
        "colab": {
          "base_uri": "https://localhost:8080/",
          "height": 264
        },
        "id": "8opE0kGtf-jg",
        "outputId": "2467bcb9-5d1a-4ff7-b4e9-0f297201906b"
      },
      "outputs": [
        {
          "output_type": "display_data",
          "data": {
            "text/plain": [
              "<Figure size 432x288 with 1 Axes>"
            ],
            "image/png": "[encoded data removed]"
          },
          "metadata": {}
        }
      ],
      "source": [
        "df20['Genero'].value_counts().plot(kind='pie',   autopct=\"%0.1f %%\", title='Año 2020');\n",
        "plt.savefig(\"Comparación_en_porcentaje_2020.jpg\", dpi=100, bbox_inches='tight')"
      ]
    },
    {
      "cell_type": "markdown",
      "source": [
        "Creación de gráfica tipo \"pie\" comparando el porcentaje de estduios realizados entre los dos géneros en el 2021"
      ],
      "metadata": {
        "id": "33IzeUc5EtFJ"
      }
    },
    {
      "cell_type": "code",
      "execution_count": null,
      "metadata": {
        "colab": {
          "base_uri": "https://localhost:8080/",
          "height": 264
        },
        "id": "TJFTtYl9eJ3x",
        "outputId": "12b464ce-b3ce-4a16-f683-d33f13fdab9f"
      },
      "outputs": [
        {
          "output_type": "display_data",
          "data": {
            "text/plain": [
              "<Figure size 432x288 with 1 Axes>"
            ],
            "image/png": "[encoded data removed]"
          },
          "metadata": {}
        }
      ],
      "source": [
        "df21['Genero'].value_counts().plot(kind='pie', autopct=\"%0.1f %%\", title='Año 2021');\n",
        "plt.savefig(\"Comparación_en_porcentaje_2021.jpg\", dpi=100, bbox_inches='tight')"
      ]
    },
    {
      "cell_type": "markdown",
      "source": [
        "Gráfica para comparar el crecimiento que ha tenido cada género en los 3 años "
      ],
      "metadata": {
        "id": "uIF9rVKoE0Y-"
      }
    },
    {
      "cell_type": "code",
      "source": [
        "fig = plt.figure(figsize =(10, 6))\n",
        "sns.countplot(data=df, x='Genero', hue='Periodo')\n",
        "plt.title('\\n Incremento en la demanda de análisis clínicos por género del 2019 al 2021 \\n')\n",
        "plt.ylabel('\\n Cantidad de estudios realizados \\n')\n",
        "plt.savefig(\"Comparativo_por_genero_año.jpg\", dpi=150, bbox_inches='tight')\n",
        "plt.show()"
      ],
      "metadata": {
        "colab": {
          "base_uri": "https://localhost:8080/",
          "height": 440
        },
        "id": "Rt_kPbf_zA_9",
        "outputId": "810944a9-4d88-4a02-87de-2d8b4eef3068"
      },
      "execution_count": null,
      "outputs": [
        {
          "output_type": "display_data",
          "data": {
            "text/plain": [
              "<Figure size 720x432 with 1 Axes>"
            ],
            "image/png": "[encoded data removed]"
          },
          "metadata": {}
        }
      ]
    },
    {
      "cell_type": "markdown",
      "metadata": {
        "id": "eLYK2hpg9_gV"
      },
      "source": [
        "## 8. Comparación de cantidad de estudios realizados mensualmente en los 3 años"
      ]
    },
    {
      "cell_type": "code",
      "source": [
        "df.head()"
      ],
      "metadata": {
        "colab": {
          "base_uri": "https://localhost:8080/",
          "height": 206
        },
        "id": "nwvvbGhuUKjt",
        "outputId": "ba55db17-dccc-4630-ee48-8b3dc8e88fa3"
      },
      "execution_count": null,
      "outputs": [
        {
          "output_type": "execute_result",
          "data": {
            "text/plain": [
              "     Clave      Estudio  Costo_dlls      Fecha    Genero  Cantidad Periodo  \\\n",
              "0  MX-0843  PAPANICOLAU        14.5 2019-08-30  Femenino         1    2019   \n",
              "1  MX-0843  PAPANICOLAU        14.5 2019-11-21  Femenino         1    2019   \n",
              "2  MX-0843  PAPANICOLAU        14.5 2019-12-02  Femenino         1    2019   \n",
              "3  MX-0843  PAPANICOLAU        14.5 2019-12-17  Femenino         1    2019   \n",
              "4  MX-0843  PAPANICOLAU        14.5 2019-08-14  Femenino         1    2019   \n",
              "\n",
              "   Mes  Dia  \n",
              "0    8   30  \n",
              "1   11   21  \n",
              "2   12    2  \n",
              "3   12   17  \n",
              "4    8   14  "
            ],
            "text/html": [
              "\n",
              "  <div id=\"df-82dbbdab-b451-47be-b6a4-09162a19724a\">\n",
              "    <div class=\"colab-df-container\">\n",
              "      <div>\n",
              "<style scoped>\n",
              "    .dataframe tbody tr th:only-of-type {\n",
              "        vertical-align: middle;\n",
              "    }\n",
              "\n",
              "    .dataframe tbody tr th {\n",
              "        vertical-align: top;\n",
              "    }\n",
              "\n",
              "    .dataframe thead th {\n",
              "        text-align: right;\n",
              "    }\n",
              "</style>\n",
              "<table border=\"1\" class=\"dataframe\">\n",
              "  <thead>\n",
              "    <tr style=\"text-align: right;\">\n",
              "      <th></th>\n",
              "      <th>Clave</th>\n",
              "      <th>Estudio</th>\n",
              "      <th>Costo_dlls</th>\n",
              "      <th>Fecha</th>\n",
              "      <th>Genero</th>\n",
              "      <th>Cantidad</th>\n",
              "      <th>Periodo</th>\n",
              "      <th>Mes</th>\n",
              "      <th>Dia</th>\n",
              "    </tr>\n",
              "  </thead>\n",
              "  <tbody>\n",
              "    <tr>\n",
              "      <th>0</th>\n",
              "      <td>MX-0843</td>\n",
              "      <td>PAPANICOLAU</td>\n",
              "      <td>14.5</td>\n",
              "      <td>2019-08-30</td>\n",
              "      <td>Femenino</td>\n",
              "      <td>1</td>\n",
              "      <td>2019</td>\n",
              "      <td>8</td>\n",
              "      <td>30</td>\n",
              "    </tr>\n",
              "    <tr>\n",
              "      <th>1</th>\n",
              "      <td>MX-0843</td>\n",
              "      <td>PAPANICOLAU</td>\n",
              "      <td>14.5</td>\n",
              "      <td>2019-11-21</td>\n",
              "      <td>Femenino</td>\n",
              "      <td>1</td>\n",
              "      <td>2019</td>\n",
              "      <td>11</td>\n",
              "      <td>21</td>\n",
              "    </tr>\n",
              "    <tr>\n",
              "      <th>2</th>\n",
              "      <td>MX-0843</td>\n",
              "      <td>PAPANICOLAU</td>\n",
              "      <td>14.5</td>\n",
              "      <td>2019-12-02</td>\n",
              "      <td>Femenino</td>\n",
              "      <td>1</td>\n",
              "      <td>2019</td>\n",
              "      <td>12</td>\n",
              "      <td>2</td>\n",
              "    </tr>\n",
              "    <tr>\n",
              "      <th>3</th>\n",
              "      <td>MX-0843</td>\n",
              "      <td>PAPANICOLAU</td>\n",
              "      <td>14.5</td>\n",
              "      <td>2019-12-17</td>\n",
              "      <td>Femenino</td>\n",
              "      <td>1</td>\n",
              "      <td>2019</td>\n",
              "      <td>12</td>\n",
              "      <td>17</td>\n",
              "    </tr>\n",
              "    <tr>\n",
              "      <th>4</th>\n",
              "      <td>MX-0843</td>\n",
              "      <td>PAPANICOLAU</td>\n",
              "      <td>14.5</td>\n",
              "      <td>2019-08-14</td>\n",
              "      <td>Femenino</td>\n",
              "      <td>1</td>\n",
              "      <td>2019</td>\n",
              "      <td>8</td>\n",
              "      <td>14</td>\n",
              "    </tr>\n",
              "  </tbody>\n",
              "</table>\n",
              "</div>\n",
              "      <button class=\"colab-df-convert\" onclick=\"convertToInteractive('df-82dbbdab-b451-47be-b6a4-09162a19724a')\"\n",
              "              title=\"Convert this dataframe to an interactive table.\"\n",
              "              style=\"display:none;\">\n",
              "        \n",
              "  <svg xmlns=\"http://www.w3.org/2000/svg\" height=\"24px\"viewBox=\"0 0 24 24\"\n",
              "       width=\"24px\">\n",
              "    <path d=\"M0 0h24v24H0V0z\" fill=\"none\"/>\n",
              "    <path d=\"M18.56 5.44l.94 2.06.94-2.06 2.06-.94-2.06-.94-.94-2.06-.94 2.06-2.06.94zm-11 1L8.5 8.5l.94-2.06 2.06-.94-2.06-.94L8.5 2.5l-.94 2.06-2.06.94zm10 10l.94 2.06.94-2.06 2.06-.94-2.06-.94-.94-2.06-.94 2.06-2.06.94z\"/><path d=\"M17.41 7.96l-1.37-1.37c-.4-.4-.92-.59-1.43-.59-.52 0-1.04.2-1.43.59L10.3 9.45l-7.72 7.72c-.78.78-.78 2.05 0 2.83L4 21.41c.39.39.9.59 1.41.59.51 0 1.02-.2 1.41-.59l7.78-7.78 2.81-2.81c.8-.78.8-2.07 0-2.86zM5.41 20L4 18.59l7.72-7.72 1.47 1.35L5.41 20z\"/>\n",
              "  </svg>\n",
              "      </button>\n",
              "      \n",
              "  <style>\n",
              "    .colab-df-container {\n",
              "      display:flex;\n",
              "      flex-wrap:wrap;\n",
              "      gap: 12px;\n",
              "    }\n",
              "\n",
              "    .colab-df-convert {\n",
              "      background-color: #E8F0FE;\n",
              "      border: none;\n",
              "      border-radius: 50%;\n",
              "      cursor: pointer;\n",
              "      display: none;\n",
              "      fill: #1967D2;\n",
              "      height: 32px;\n",
              "      padding: 0 0 0 0;\n",
              "      width: 32px;\n",
              "    }\n",
              "\n",
              "    .colab-df-convert:hover {\n",
              "      background-color: #E2EBFA;\n",
              "      box-shadow: 0px 1px 2px rgba(60, 64, 67, 0.3), 0px 1px 3px 1px rgba(60, 64, 67, 0.15);\n",
              "      fill: #174EA6;\n",
              "    }\n",
              "\n",
              "    [theme=dark] .colab-df-convert {\n",
              "      background-color: #3B4455;\n",
              "      fill: #D2E3FC;\n",
              "    }\n",
              "\n",
              "    [theme=dark] .colab-df-convert:hover {\n",
              "      background-color: #434B5C;\n",
              "      box-shadow: 0px 1px 3px 1px rgba(0, 0, 0, 0.15);\n",
              "      filter: drop-shadow(0px 1px 2px rgba(0, 0, 0, 0.3));\n",
              "      fill: #FFFFFF;\n",
              "    }\n",
              "  </style>\n",
              "\n",
              "      <script>\n",
              "        const buttonEl =\n",
              "          document.querySelector('#df-82dbbdab-b451-47be-b6a4-09162a19724a button.colab-df-convert');\n",
              "        buttonEl.style.display =\n",
              "          google.colab.kernel.accessAllowed ? 'block' : 'none';\n",
              "\n",
              "        async function convertToInteractive(key) {\n",
              "          const element = document.querySelector('#df-82dbbdab-b451-47be-b6a4-09162a19724a');\n",
              "          const dataTable =\n",
              "            await google.colab.kernel.invokeFunction('convertToInteractive',\n",
              "                                                     [key], {});\n",
              "          if (!dataTable) return;\n",
              "\n",
              "          const docLinkHtml = 'Like what you see? Visit the ' +\n",
              "            '<a target=\"_blank\" href=https://colab.research.google.com/notebooks/data_table.ipynb>data table notebook</a>'\n",
              "            + ' to learn more about interactive tables.';\n",
              "          element.innerHTML = '';\n",
              "          dataTable['output_type'] = 'display_data';\n",
              "          await google.colab.output.renderOutput(dataTable, element);\n",
              "          const docLink = document.createElement('div');\n",
              "          docLink.innerHTML = docLinkHtml;\n",
              "          element.appendChild(docLink);\n",
              "        }\n",
              "      </script>\n",
              "    </div>\n",
              "  </div>\n",
              "  "
            ]
          },
          "metadata": {},
          "execution_count": 130
        }
      ]
    },
    {
      "cell_type": "code",
      "execution_count": null,
      "metadata": {
        "colab": {
          "base_uri": "https://localhost:8080/",
          "height": 455
        },
        "id": "qmVzZBWzlYtU",
        "outputId": "a3d91de1-4245-4dbe-c361-a9a318d376c4"
      },
      "outputs": [
        {
          "output_type": "display_data",
          "data": {
            "text/plain": [
              "<Figure size 864x432 with 1 Axes>"
            ],
            "image/png": "[encoded data removed]"
          },
          "metadata": {}
        }
      ],
      "source": [
        "#Parámetros de la gráfica\n",
        "sns.set()\n",
        "fig = plt.figure(figsize =(12, 6)) \n",
        "sns.countplot(data=df, x='Mes', hue='Periodo')\n",
        "plt.title('\\n Comparando la demanda de estudios clínicos \\n  de forma mensual  del 2019 al 2021  \\n')\n",
        "plt.savefig(\"Comparacion_cantidad__mensual.jpg\", dpi=100, bbox_inches='tight'); #Guardamos la gráfica"
      ]
    },
    {
      "cell_type": "markdown",
      "metadata": {
        "id": "9Vz_m72DhUEf"
      },
      "source": [
        "## 9. Visualizamos el historico de la demanda de estudios clínicos del 2019 al 2021 de forma mensual"
      ]
    },
    {
      "cell_type": "markdown",
      "source": [
        "Creación del dataframe de la cantidad de estudios realizados mensualmente"
      ],
      "metadata": {
        "id": "OB__Y5LsGYCb"
      }
    },
    {
      "cell_type": "code",
      "execution_count": null,
      "metadata": {
        "colab": {
          "base_uri": "https://localhost:8080/",
          "height": 206
        },
        "id": "az1A5yqwkgT8",
        "outputId": "a13b570a-e8ff-4d07-ee85-3b3362686c49"
      },
      "outputs": [
        {
          "output_type": "execute_result",
          "data": {
            "text/plain": [
              "       Fecha  Cantidad\n",
              "1 2019-01-31       125\n",
              "2 2019-02-28       151\n",
              "3 2019-03-31       107\n",
              "4 2019-04-30       140\n",
              "5 2019-05-31       168"
            ],
            "text/html": [
              "\n",
              "  <div id=\"df-3e328ab7-4662-4da9-a668-18c11ded47bf\">\n",
              "    <div class=\"colab-df-container\">\n",
              "      <div>\n",
              "<style scoped>\n",
              "    .dataframe tbody tr th:only-of-type {\n",
              "        vertical-align: middle;\n",
              "    }\n",
              "\n",
              "    .dataframe tbody tr th {\n",
              "        vertical-align: top;\n",
              "    }\n",
              "\n",
              "    .dataframe thead th {\n",
              "        text-align: right;\n",
              "    }\n",
              "</style>\n",
              "<table border=\"1\" class=\"dataframe\">\n",
              "  <thead>\n",
              "    <tr style=\"text-align: right;\">\n",
              "      <th></th>\n",
              "      <th>Fecha</th>\n",
              "      <th>Cantidad</th>\n",
              "    </tr>\n",
              "  </thead>\n",
              "  <tbody>\n",
              "    <tr>\n",
              "      <th>1</th>\n",
              "      <td>2019-01-31</td>\n",
              "      <td>125</td>\n",
              "    </tr>\n",
              "    <tr>\n",
              "      <th>2</th>\n",
              "      <td>2019-02-28</td>\n",
              "      <td>151</td>\n",
              "    </tr>\n",
              "    <tr>\n",
              "      <th>3</th>\n",
              "      <td>2019-03-31</td>\n",
              "      <td>107</td>\n",
              "    </tr>\n",
              "    <tr>\n",
              "      <th>4</th>\n",
              "      <td>2019-04-30</td>\n",
              "      <td>140</td>\n",
              "    </tr>\n",
              "    <tr>\n",
              "      <th>5</th>\n",
              "      <td>2019-05-31</td>\n",
              "      <td>168</td>\n",
              "    </tr>\n",
              "  </tbody>\n",
              "</table>\n",
              "</div>\n",
              "      <button class=\"colab-df-convert\" onclick=\"convertToInteractive('df-3e328ab7-4662-4da9-a668-18c11ded47bf')\"\n",
              "              title=\"Convert this dataframe to an interactive table.\"\n",
              "              style=\"display:none;\">\n",
              "        \n",
              "  <svg xmlns=\"http://www.w3.org/2000/svg\" height=\"24px\"viewBox=\"0 0 24 24\"\n",
              "       width=\"24px\">\n",
              "    <path d=\"M0 0h24v24H0V0z\" fill=\"none\"/>\n",
              "    <path d=\"M18.56 5.44l.94 2.06.94-2.06 2.06-.94-2.06-.94-.94-2.06-.94 2.06-2.06.94zm-11 1L8.5 8.5l.94-2.06 2.06-.94-2.06-.94L8.5 2.5l-.94 2.06-2.06.94zm10 10l.94 2.06.94-2.06 2.06-.94-2.06-.94-.94-2.06-.94 2.06-2.06.94z\"/><path d=\"M17.41 7.96l-1.37-1.37c-.4-.4-.92-.59-1.43-.59-.52 0-1.04.2-1.43.59L10.3 9.45l-7.72 7.72c-.78.78-.78 2.05 0 2.83L4 21.41c.39.39.9.59 1.41.59.51 0 1.02-.2 1.41-.59l7.78-7.78 2.81-2.81c.8-.78.8-2.07 0-2.86zM5.41 20L4 18.59l7.72-7.72 1.47 1.35L5.41 20z\"/>\n",
              "  </svg>\n",
              "      </button>\n",
              "      \n",
              "  <style>\n",
              "    .colab-df-container {\n",
              "      display:flex;\n",
              "      flex-wrap:wrap;\n",
              "      gap: 12px;\n",
              "    }\n",
              "\n",
              "    .colab-df-convert {\n",
              "      background-color: #E8F0FE;\n",
              "      border: none;\n",
              "      border-radius: 50%;\n",
              "      cursor: pointer;\n",
              "      display: none;\n",
              "      fill: #1967D2;\n",
              "      height: 32px;\n",
              "      padding: 0 0 0 0;\n",
              "      width: 32px;\n",
              "    }\n",
              "\n",
              "    .colab-df-convert:hover {\n",
              "      background-color: #E2EBFA;\n",
              "      box-shadow: 0px 1px 2px rgba(60, 64, 67, 0.3), 0px 1px 3px 1px rgba(60, 64, 67, 0.15);\n",
              "      fill: #174EA6;\n",
              "    }\n",
              "\n",
              "    [theme=dark] .colab-df-convert {\n",
              "      background-color: #3B4455;\n",
              "      fill: #D2E3FC;\n",
              "    }\n",
              "\n",
              "    [theme=dark] .colab-df-convert:hover {\n",
              "      background-color: #434B5C;\n",
              "      box-shadow: 0px 1px 3px 1px rgba(0, 0, 0, 0.15);\n",
              "      filter: drop-shadow(0px 1px 2px rgba(0, 0, 0, 0.3));\n",
              "      fill: #FFFFFF;\n",
              "    }\n",
              "  </style>\n",
              "\n",
              "      <script>\n",
              "        const buttonEl =\n",
              "          document.querySelector('#df-3e328ab7-4662-4da9-a668-18c11ded47bf button.colab-df-convert');\n",
              "        buttonEl.style.display =\n",
              "          google.colab.kernel.accessAllowed ? 'block' : 'none';\n",
              "\n",
              "        async function convertToInteractive(key) {\n",
              "          const element = document.querySelector('#df-3e328ab7-4662-4da9-a668-18c11ded47bf');\n",
              "          const dataTable =\n",
              "            await google.colab.kernel.invokeFunction('convertToInteractive',\n",
              "                                                     [key], {});\n",
              "          if (!dataTable) return;\n",
              "\n",
              "          const docLinkHtml = 'Like what you see? Visit the ' +\n",
              "            '<a target=\"_blank\" href=https://colab.research.google.com/notebooks/data_table.ipynb>data table notebook</a>'\n",
              "            + ' to learn more about interactive tables.';\n",
              "          element.innerHTML = '';\n",
              "          dataTable['output_type'] = 'display_data';\n",
              "          await google.colab.output.renderOutput(dataTable, element);\n",
              "          const docLink = document.createElement('div');\n",
              "          docLink.innerHTML = docLinkHtml;\n",
              "          element.appendChild(docLink);\n",
              "        }\n",
              "      </script>\n",
              "    </div>\n",
              "  </div>\n",
              "  "
            ]
          },
          "metadata": {},
          "execution_count": 132
        }
      ],
      "source": [
        "#Creamos nuestro dataframe para visualizar el historico\n",
        "df_mensual = df.groupby(['Fecha'])[['Cantidad']].sum().reset_index()\n",
        "\n",
        "#A nuestro Dataframe le aplicamos el metodo .set_index() que pondra como indice principal a la variable 'Fecha'\n",
        "df_mensual = df_mensual.set_index('Fecha')\n",
        "\n",
        "#Con el metodo .resample('m').sum() vamos a sumar la cantidad de estudios por mes \n",
        "df_mensual = df_mensual.resample('m').sum().reset_index()\n",
        "\n",
        "#Obtenemos nuestro dataframe de los 3 años con al suma de lso estudios realizados de forma mensual\n",
        "df_mensual.index=df_mensual.index+1\n",
        "df_mensual.head()"
      ]
    },
    {
      "cell_type": "markdown",
      "source": [
        "Creación de la gráfica del historico"
      ],
      "metadata": {
        "id": "3eEiSuG0GPcu"
      }
    },
    {
      "cell_type": "code",
      "execution_count": null,
      "metadata": {
        "colab": {
          "base_uri": "https://localhost:8080/",
          "height": 430
        },
        "id": "bK4o5vAfl3mk",
        "outputId": "45d9836e-5e88-491f-de0e-af796eca552b"
      },
      "outputs": [
        {
          "output_type": "display_data",
          "data": {
            "text/plain": [
              "<Figure size 936x360 with 1 Axes>"
            ],
            "image/png": "[encoded data removed]"
          },
          "metadata": {}
        }
      ],
      "source": [
        "#Parametros de la Gráfica\n",
        "df_mensual.plot(kind=\"line\",  y='Cantidad', marker = '.',figsize=(13,5))\n",
        "plt.title('\\n Comportamieto historico de la demanda de estudios clínicos\\n  desde Enero 2019 hasta Diciembre 2021  \\n')\n",
        "\n",
        "plt.xlabel('\\n Consecutivo de Meses desde Enero 2019 a Diciembre 2022 \\n')\n",
        "plt.ylabel('\\n Cantidad de estudios realizados \\n')\n",
        "plt.savefig(\"Historico_mensual_3_años.jpg\", dpi=300, bbox_inches='tight')\n",
        "plt.xticks(rotation = 0);\n",
        "plt.show()"
      ]
    },
    {
      "cell_type": "markdown",
      "metadata": {
        "id": "fEtKpVGUmKq9"
      },
      "source": [
        "## 10. Visualización del comportamiento de la demanda de estudios clínicos por mes durante los 3 años "
      ]
    },
    {
      "cell_type": "code",
      "execution_count": null,
      "metadata": {
        "id": "5y3YfwWGkQ5v"
      },
      "outputs": [],
      "source": [
        "#Creamos nuestro groupby con \"Peridos\", \"Mes\" y .sum para sumar la cantidad\n",
        "df_years = df.groupby(['Periodo','Mes'])[['Cantidad']].sum().reset_index()"
      ]
    },
    {
      "cell_type": "code",
      "execution_count": null,
      "metadata": {
        "colab": {
          "base_uri": "https://localhost:8080/",
          "height": 206
        },
        "id": "4fSB7A_K3WeQ",
        "outputId": "a3c56830-6b74-488e-82ea-9e8453affbad"
      },
      "outputs": [
        {
          "output_type": "execute_result",
          "data": {
            "text/plain": [
              "     2019  2020  2021\n",
              "Ene   125   415   826\n",
              "Feb   151   344   702\n",
              "Mar   107   335   964\n",
              "Abr   140   275   684\n",
              "May   168   305   600"
            ],
            "text/html": [
              "\n",
              "  <div id=\"df-732cdb78-0d1a-4b0d-83e7-dfd1a0b26dbc\">\n",
              "    <div class=\"colab-df-container\">\n",
              "      <div>\n",
              "<style scoped>\n",
              "    .dataframe tbody tr th:only-of-type {\n",
              "        vertical-align: middle;\n",
              "    }\n",
              "\n",
              "    .dataframe tbody tr th {\n",
              "        vertical-align: top;\n",
              "    }\n",
              "\n",
              "    .dataframe thead th {\n",
              "        text-align: right;\n",
              "    }\n",
              "</style>\n",
              "<table border=\"1\" class=\"dataframe\">\n",
              "  <thead>\n",
              "    <tr style=\"text-align: right;\">\n",
              "      <th></th>\n",
              "      <th>2019</th>\n",
              "      <th>2020</th>\n",
              "      <th>2021</th>\n",
              "    </tr>\n",
              "  </thead>\n",
              "  <tbody>\n",
              "    <tr>\n",
              "      <th>Ene</th>\n",
              "      <td>125</td>\n",
              "      <td>415</td>\n",
              "      <td>826</td>\n",
              "    </tr>\n",
              "    <tr>\n",
              "      <th>Feb</th>\n",
              "      <td>151</td>\n",
              "      <td>344</td>\n",
              "      <td>702</td>\n",
              "    </tr>\n",
              "    <tr>\n",
              "      <th>Mar</th>\n",
              "      <td>107</td>\n",
              "      <td>335</td>\n",
              "      <td>964</td>\n",
              "    </tr>\n",
              "    <tr>\n",
              "      <th>Abr</th>\n",
              "      <td>140</td>\n",
              "      <td>275</td>\n",
              "      <td>684</td>\n",
              "    </tr>\n",
              "    <tr>\n",
              "      <th>May</th>\n",
              "      <td>168</td>\n",
              "      <td>305</td>\n",
              "      <td>600</td>\n",
              "    </tr>\n",
              "  </tbody>\n",
              "</table>\n",
              "</div>\n",
              "      <button class=\"colab-df-convert\" onclick=\"convertToInteractive('df-732cdb78-0d1a-4b0d-83e7-dfd1a0b26dbc')\"\n",
              "              title=\"Convert this dataframe to an interactive table.\"\n",
              "              style=\"display:none;\">\n",
              "        \n",
              "  <svg xmlns=\"http://www.w3.org/2000/svg\" height=\"24px\"viewBox=\"0 0 24 24\"\n",
              "       width=\"24px\">\n",
              "    <path d=\"M0 0h24v24H0V0z\" fill=\"none\"/>\n",
              "    <path d=\"M18.56 5.44l.94 2.06.94-2.06 2.06-.94-2.06-.94-.94-2.06-.94 2.06-2.06.94zm-11 1L8.5 8.5l.94-2.06 2.06-.94-2.06-.94L8.5 2.5l-.94 2.06-2.06.94zm10 10l.94 2.06.94-2.06 2.06-.94-2.06-.94-.94-2.06-.94 2.06-2.06.94z\"/><path d=\"M17.41 7.96l-1.37-1.37c-.4-.4-.92-.59-1.43-.59-.52 0-1.04.2-1.43.59L10.3 9.45l-7.72 7.72c-.78.78-.78 2.05 0 2.83L4 21.41c.39.39.9.59 1.41.59.51 0 1.02-.2 1.41-.59l7.78-7.78 2.81-2.81c.8-.78.8-2.07 0-2.86zM5.41 20L4 18.59l7.72-7.72 1.47 1.35L5.41 20z\"/>\n",
              "  </svg>\n",
              "      </button>\n",
              "      \n",
              "  <style>\n",
              "    .colab-df-container {\n",
              "      display:flex;\n",
              "      flex-wrap:wrap;\n",
              "      gap: 12px;\n",
              "    }\n",
              "\n",
              "    .colab-df-convert {\n",
              "      background-color: #E8F0FE;\n",
              "      border: none;\n",
              "      border-radius: 50%;\n",
              "      cursor: pointer;\n",
              "      display: none;\n",
              "      fill: #1967D2;\n",
              "      height: 32px;\n",
              "      padding: 0 0 0 0;\n",
              "      width: 32px;\n",
              "    }\n",
              "\n",
              "    .colab-df-convert:hover {\n",
              "      background-color: #E2EBFA;\n",
              "      box-shadow: 0px 1px 2px rgba(60, 64, 67, 0.3), 0px 1px 3px 1px rgba(60, 64, 67, 0.15);\n",
              "      fill: #174EA6;\n",
              "    }\n",
              "\n",
              "    [theme=dark] .colab-df-convert {\n",
              "      background-color: #3B4455;\n",
              "      fill: #D2E3FC;\n",
              "    }\n",
              "\n",
              "    [theme=dark] .colab-df-convert:hover {\n",
              "      background-color: #434B5C;\n",
              "      box-shadow: 0px 1px 3px 1px rgba(0, 0, 0, 0.15);\n",
              "      filter: drop-shadow(0px 1px 2px rgba(0, 0, 0, 0.3));\n",
              "      fill: #FFFFFF;\n",
              "    }\n",
              "  </style>\n",
              "\n",
              "      <script>\n",
              "        const buttonEl =\n",
              "          document.querySelector('#df-732cdb78-0d1a-4b0d-83e7-dfd1a0b26dbc button.colab-df-convert');\n",
              "        buttonEl.style.display =\n",
              "          google.colab.kernel.accessAllowed ? 'block' : 'none';\n",
              "\n",
              "        async function convertToInteractive(key) {\n",
              "          const element = document.querySelector('#df-732cdb78-0d1a-4b0d-83e7-dfd1a0b26dbc');\n",
              "          const dataTable =\n",
              "            await google.colab.kernel.invokeFunction('convertToInteractive',\n",
              "                                                     [key], {});\n",
              "          if (!dataTable) return;\n",
              "\n",
              "          const docLinkHtml = 'Like what you see? Visit the ' +\n",
              "            '<a target=\"_blank\" href=https://colab.research.google.com/notebooks/data_table.ipynb>data table notebook</a>'\n",
              "            + ' to learn more about interactive tables.';\n",
              "          element.innerHTML = '';\n",
              "          dataTable['output_type'] = 'display_data';\n",
              "          await google.colab.output.renderOutput(dataTable, element);\n",
              "          const docLink = document.createElement('div');\n",
              "          docLink.innerHTML = docLinkHtml;\n",
              "          element.appendChild(docLink);\n",
              "        }\n",
              "      </script>\n",
              "    </div>\n",
              "  </div>\n",
              "  "
            ]
          },
          "metadata": {},
          "execution_count": 135
        }
      ],
      "source": [
        "#Creamos el dataframe con los valores por mes y año para graficarlo, los datos fueron extraidos\n",
        "#del groupby anterior\n",
        "datos = [[125, 151, 107, 140, 168, 156, 185, 269, 339, 164, 184, 218,],\n",
        "        [415, 344, 335, 275, 305, 349, 592, 421, 833, 416, 363, 384,],\n",
        "        [826, 702, 964, 684, 600, 520, 654, 890, 1101, 557, 603, 568]]\n",
        "columnas = [['Ene', 'Feb', 'Mar', 'Abr', 'May', 'Jun', 'Jul', 'Ago', 'Sep', 'Oct', 'Nov', 'Dic']] # definimos los nombres de las columnas\n",
        "filas = ['2019', '2020', '2021'] # definimos los nombres de las filas\n",
        "\n",
        "#Creamos nuestro dataframe\n",
        "df_years = pd.DataFrame(datos, columns=columnas, index=filas).transpose()\n",
        "df_years.head()"
      ]
    },
    {
      "cell_type": "code",
      "source": [
        "df_years.describe()"
      ],
      "metadata": {
        "colab": {
          "base_uri": "https://localhost:8080/",
          "height": 300
        },
        "id": "6o7sqaHbIiQ0",
        "outputId": "6f5b5f83-b946-4380-968b-9ca5237ff629"
      },
      "execution_count": null,
      "outputs": [
        {
          "output_type": "execute_result",
          "data": {
            "text/plain": [
              "             2019        2020         2021\n",
              "count   12.000000   12.000000    12.000000\n",
              "mean   183.833333  419.333333   722.416667\n",
              "std     64.864661  152.859611   183.030280\n",
              "min    107.000000  275.000000   520.000000\n",
              "25%    148.250000  341.750000   592.000000\n",
              "50%    166.000000  373.500000   669.000000\n",
              "75%    193.250000  417.250000   842.000000\n",
              "max    339.000000  833.000000  1101.000000"
            ],
            "text/html": [
              "\n",
              "  <div id=\"df-514c9f4f-c73e-4bb2-a863-9c04ac6da175\">\n",
              "    <div class=\"colab-df-container\">\n",
              "      <div>\n",
              "<style scoped>\n",
              "    .dataframe tbody tr th:only-of-type {\n",
              "        vertical-align: middle;\n",
              "    }\n",
              "\n",
              "    .dataframe tbody tr th {\n",
              "        vertical-align: top;\n",
              "    }\n",
              "\n",
              "    .dataframe thead th {\n",
              "        text-align: right;\n",
              "    }\n",
              "</style>\n",
              "<table border=\"1\" class=\"dataframe\">\n",
              "  <thead>\n",
              "    <tr style=\"text-align: right;\">\n",
              "      <th></th>\n",
              "      <th>2019</th>\n",
              "      <th>2020</th>\n",
              "      <th>2021</th>\n",
              "    </tr>\n",
              "  </thead>\n",
              "  <tbody>\n",
              "    <tr>\n",
              "      <th>count</th>\n",
              "      <td>12.000000</td>\n",
              "      <td>12.000000</td>\n",
              "      <td>12.000000</td>\n",
              "    </tr>\n",
              "    <tr>\n",
              "      <th>mean</th>\n",
              "      <td>183.833333</td>\n",
              "      <td>419.333333</td>\n",
              "      <td>722.416667</td>\n",
              "    </tr>\n",
              "    <tr>\n",
              "      <th>std</th>\n",
              "      <td>64.864661</td>\n",
              "      <td>152.859611</td>\n",
              "      <td>183.030280</td>\n",
              "    </tr>\n",
              "    <tr>\n",
              "      <th>min</th>\n",
              "      <td>107.000000</td>\n",
              "      <td>275.000000</td>\n",
              "      <td>520.000000</td>\n",
              "    </tr>\n",
              "    <tr>\n",
              "      <th>25%</th>\n",
              "      <td>148.250000</td>\n",
              "      <td>341.750000</td>\n",
              "      <td>592.000000</td>\n",
              "    </tr>\n",
              "    <tr>\n",
              "      <th>50%</th>\n",
              "      <td>166.000000</td>\n",
              "      <td>373.500000</td>\n",
              "      <td>669.000000</td>\n",
              "    </tr>\n",
              "    <tr>\n",
              "      <th>75%</th>\n",
              "      <td>193.250000</td>\n",
              "      <td>417.250000</td>\n",
              "      <td>842.000000</td>\n",
              "    </tr>\n",
              "    <tr>\n",
              "      <th>max</th>\n",
              "      <td>339.000000</td>\n",
              "      <td>833.000000</td>\n",
              "      <td>1101.000000</td>\n",
              "    </tr>\n",
              "  </tbody>\n",
              "</table>\n",
              "</div>\n",
              "      <button class=\"colab-df-convert\" onclick=\"convertToInteractive('df-514c9f4f-c73e-4bb2-a863-9c04ac6da175')\"\n",
              "              title=\"Convert this dataframe to an interactive table.\"\n",
              "              style=\"display:none;\">\n",
              "        \n",
              "  <svg xmlns=\"http://www.w3.org/2000/svg\" height=\"24px\"viewBox=\"0 0 24 24\"\n",
              "       width=\"24px\">\n",
              "    <path d=\"M0 0h24v24H0V0z\" fill=\"none\"/>\n",
              "    <path d=\"M18.56 5.44l.94 2.06.94-2.06 2.06-.94-2.06-.94-.94-2.06-.94 2.06-2.06.94zm-11 1L8.5 8.5l.94-2.06 2.06-.94-2.06-.94L8.5 2.5l-.94 2.06-2.06.94zm10 10l.94 2.06.94-2.06 2.06-.94-2.06-.94-.94-2.06-.94 2.06-2.06.94z\"/><path d=\"M17.41 7.96l-1.37-1.37c-.4-.4-.92-.59-1.43-.59-.52 0-1.04.2-1.43.59L10.3 9.45l-7.72 7.72c-.78.78-.78 2.05 0 2.83L4 21.41c.39.39.9.59 1.41.59.51 0 1.02-.2 1.41-.59l7.78-7.78 2.81-2.81c.8-.78.8-2.07 0-2.86zM5.41 20L4 18.59l7.72-7.72 1.47 1.35L5.41 20z\"/>\n",
              "  </svg>\n",
              "      </button>\n",
              "      \n",
              "  <style>\n",
              "    .colab-df-container {\n",
              "      display:flex;\n",
              "      flex-wrap:wrap;\n",
              "      gap: 12px;\n",
              "    }\n",
              "\n",
              "    .colab-df-convert {\n",
              "      background-color: #E8F0FE;\n",
              "      border: none;\n",
              "      border-radius: 50%;\n",
              "      cursor: pointer;\n",
              "      display: none;\n",
              "      fill: #1967D2;\n",
              "      height: 32px;\n",
              "      padding: 0 0 0 0;\n",
              "      width: 32px;\n",
              "    }\n",
              "\n",
              "    .colab-df-convert:hover {\n",
              "      background-color: #E2EBFA;\n",
              "      box-shadow: 0px 1px 2px rgba(60, 64, 67, 0.3), 0px 1px 3px 1px rgba(60, 64, 67, 0.15);\n",
              "      fill: #174EA6;\n",
              "    }\n",
              "\n",
              "    [theme=dark] .colab-df-convert {\n",
              "      background-color: #3B4455;\n",
              "      fill: #D2E3FC;\n",
              "    }\n",
              "\n",
              "    [theme=dark] .colab-df-convert:hover {\n",
              "      background-color: #434B5C;\n",
              "      box-shadow: 0px 1px 3px 1px rgba(0, 0, 0, 0.15);\n",
              "      filter: drop-shadow(0px 1px 2px rgba(0, 0, 0, 0.3));\n",
              "      fill: #FFFFFF;\n",
              "    }\n",
              "  </style>\n",
              "\n",
              "      <script>\n",
              "        const buttonEl =\n",
              "          document.querySelector('#df-514c9f4f-c73e-4bb2-a863-9c04ac6da175 button.colab-df-convert');\n",
              "        buttonEl.style.display =\n",
              "          google.colab.kernel.accessAllowed ? 'block' : 'none';\n",
              "\n",
              "        async function convertToInteractive(key) {\n",
              "          const element = document.querySelector('#df-514c9f4f-c73e-4bb2-a863-9c04ac6da175');\n",
              "          const dataTable =\n",
              "            await google.colab.kernel.invokeFunction('convertToInteractive',\n",
              "                                                     [key], {});\n",
              "          if (!dataTable) return;\n",
              "\n",
              "          const docLinkHtml = 'Like what you see? Visit the ' +\n",
              "            '<a target=\"_blank\" href=https://colab.research.google.com/notebooks/data_table.ipynb>data table notebook</a>'\n",
              "            + ' to learn more about interactive tables.';\n",
              "          element.innerHTML = '';\n",
              "          dataTable['output_type'] = 'display_data';\n",
              "          await google.colab.output.renderOutput(dataTable, element);\n",
              "          const docLink = document.createElement('div');\n",
              "          docLink.innerHTML = docLinkHtml;\n",
              "          element.appendChild(docLink);\n",
              "        }\n",
              "      </script>\n",
              "    </div>\n",
              "  </div>\n",
              "  "
            ]
          },
          "metadata": {},
          "execution_count": 136
        }
      ]
    },
    {
      "cell_type": "markdown",
      "source": [
        "Creación de una gráfica lineal para visualizar el comportamiento de la demanda mensual de estudios clínicos en cada año"
      ],
      "metadata": {
        "id": "9n8M1KpNFbDH"
      }
    },
    {
      "cell_type": "code",
      "execution_count": null,
      "metadata": {
        "colab": {
          "base_uri": "https://localhost:8080/",
          "height": 400
        },
        "id": "jy-DunBhBX1-",
        "outputId": "41f533e3-f7ac-47be-d12d-baa5a27791dc"
      },
      "outputs": [
        {
          "output_type": "display_data",
          "data": {
            "text/plain": [
              "<Figure size 864x360 with 1 Axes>"
            ],
            "image/png": "[encoded data removed]"
          },
          "metadata": {}
        }
      ],
      "source": [
        "#Parámetros de la gráfica\n",
        "df_years[['2019','2020','2021']].plot(kind ='line',  marker = '.',figsize=(12,5))\n",
        "plt.title('\\n Gráfica de la cantidad de estudios realizados mensualmente en los 3 años\\n')\n",
        "plt.xlabel('\\n ')\n",
        "plt.ylabel('\\n Cantidad de estudios realizados \\n')\n",
        "plt.savefig(\"Comparativo_mensual_3_años.jpg\", dpi=300, bbox_inches='tight')\n",
        "plt.xticks(rotation = 0);"
      ]
    },
    {
      "cell_type": "markdown",
      "metadata": {
        "id": "xgAW5YtwpzJl"
      },
      "source": [
        "## 11. Creamos una gráfica de área para visualizar el comportamiento de cada mes para los 3 años"
      ]
    },
    {
      "cell_type": "code",
      "execution_count": null,
      "metadata": {
        "colab": {
          "base_uri": "https://localhost:8080/",
          "height": 509
        },
        "id": "rdjB9XDACFsN",
        "outputId": "e657d169-ed31-4295-a83c-48cb02d9cd66"
      },
      "outputs": [
        {
          "output_type": "display_data",
          "data": {
            "text/plain": [
              "<Figure size 936x504 with 1 Axes>"
            ],
            "image/png": "[encoded data removed]"
          },
          "metadata": {}
        }
      ],
      "source": [
        "#Gráfica de área de los 3 años\n",
        "df_years.plot.area(alpha=0.4, figsize=(13,7))\n",
        "plt.title('\\n Gráfica de área por los 3 años con registros mensuales\\n')\n",
        "plt.xlabel('\\n ')\n",
        "plt.ylabel('\\n Cantidad de estudios realizados \\n')\n",
        "plt.savefig(\"Grafica_de_area_3_periodos.jpg\", dpi=300, bbox_inches='tight')\n",
        "plt.xticks(rotation = 0);"
      ]
    },
    {
      "cell_type": "markdown",
      "metadata": {
        "id": "0G7pgE05P0mx"
      },
      "source": [
        "\n",
        "\n",
        "---\n",
        "\n"
      ]
    }
  ],
  "metadata": {
    "colab": {
      "collapsed_sections": [
        "vkXZnHjf6inX"
      ],
      "provenance": [],
      "authorship_tag": "ABX9TyMob6PMFlAG9GLJDT3i++hg",
      "include_colab_link": true
    },
    "kernelspec": {
      "display_name": "Python 3",
      "name": "python3"
    },
    "language_info": {
      "name": "python"
    }
  },
  "nbformat": 4,
  "nbformat_minor": 0
}